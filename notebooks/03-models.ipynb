{
 "cells": [
  {
   "cell_type": "code",
   "execution_count": 2,
   "metadata": {},
   "outputs": [],
   "source": [
    "#import sklearn\n",
    "import pandas as pd\n",
    "import pyprojroot"
   ]
  },
  {
   "cell_type": "code",
   "execution_count": 3,
   "metadata": {},
   "outputs": [],
   "source": [
    "root_path =  pyprojroot.here()\n",
    "\n",
    "data_processed_folder = (root_path / \"data\"/'processed')"
   ]
  },
  {
   "cell_type": "code",
   "execution_count": 4,
   "metadata": {},
   "outputs": [],
   "source": [
    "df = pd.read_csv(data_processed_folder/'pictures.csv')"
   ]
  },
  {
   "cell_type": "code",
   "execution_count": 6,
   "metadata": {},
   "outputs": [
    {
     "data": {
      "text/plain": [
       "Index(['Unnamed: 0', 'b', 'g', 'r', 'h', 's', 'v', 'lab_l', 'lab_a', 'lab_b',\n",
       "       'filename', 'image', 'page', 'color', 'index'],\n",
       "      dtype='object')"
      ]
     },
     "execution_count": 6,
     "metadata": {},
     "output_type": "execute_result"
    }
   ],
   "source": [
    "df.columns"
   ]
  },
  {
   "cell_type": "code",
   "execution_count": 47,
   "metadata": {},
   "outputs": [],
   "source": [
    "X = df[['b', 'g', 'r', 'h', 's', 'v', 'lab_l', 'lab_a', 'lab_b']]\n",
    "y = df['color']"
   ]
  },
  {
   "cell_type": "code",
   "execution_count": 48,
   "metadata": {},
   "outputs": [],
   "source": [
    "from sklearn.preprocessing import StandardScaler\n",
    "scaler = StandardScaler()\n",
    "X = scaler.fit_transform(X)"
   ]
  },
  {
   "cell_type": "code",
   "execution_count": 65,
   "metadata": {},
   "outputs": [],
   "source": [
    "from sklearn.model_selection import train_test_split\n",
    "x_train, x_test, y_train, y_test = train_test_split(X, y.values, test_size=0.25, random_state=0,stratify=y.values)"
   ]
  },
  {
   "cell_type": "code",
   "execution_count": 66,
   "metadata": {},
   "outputs": [
    {
     "name": "stderr",
     "output_type": "stream",
     "text": [
      "[Parallel(n_jobs=1)]: Using backend SequentialBackend with 1 concurrent workers.\n"
     ]
    },
    {
     "name": "stdout",
     "output_type": "stream",
     "text": [
      "0.8153506620892594\n"
     ]
    },
    {
     "name": "stderr",
     "output_type": "stream",
     "text": [
      "[Parallel(n_jobs=1)]: Done   1 out of   1 | elapsed:    1.3s remaining:    0.0s\n",
      "[Parallel(n_jobs=1)]: Done   1 out of   1 | elapsed:    1.3s finished\n"
     ]
    }
   ],
   "source": [
    "from sklearn.linear_model import LogisticRegression\n",
    "model = LogisticRegression(max_iter=1000,verbose=2,solver='newton-cg')\n",
    "model.fit(x_train, y_train)\n",
    "\n",
    "score = model.score(x_test, y_test)\n",
    "print(score)\n"
   ]
  },
  {
   "cell_type": "code",
   "execution_count": 67,
   "metadata": {},
   "outputs": [
    {
     "name": "stdout",
     "output_type": "stream",
     "text": [
      "[LibSVM]*.*\n",
      "optimization finished, #iter = 1392\n",
      "obj = -187.877043, rho = 0.255905\n",
      "nSV = 571, nBSV = 149\n",
      "..*\n",
      "optimization finished, #iter = 2846\n",
      "obj = -1425.387039, rho = -0.421212\n",
      "nSV = 1734, nBSV = 1436\n",
      "*.*\n",
      "optimization finished, #iter = 1250\n",
      "obj = -246.636668, rho = 0.094004\n",
      "nSV = 550, nBSV = 213\n",
      "*.*\n",
      "optimization finished, #iter = 1123\n",
      "obj = -97.201925, rho = -0.090085\n",
      "nSV = 383, nBSV = 55\n",
      "*\n",
      "optimization finished, #iter = 695\n",
      "obj = -42.301981, rho = -0.309495\n",
      "nSV = 259, nBSV = 18\n",
      "*\n",
      "optimization finished, #iter = 698\n",
      "obj = -59.365772, rho = -0.294196\n",
      "nSV = 262, nBSV = 35\n",
      ".*\n",
      "optimization finished, #iter = 1604\n",
      "obj = -243.351115, rho = 0.336334\n",
      "nSV = 653, nBSV = 198\n",
      "*.*\n",
      "optimization finished, #iter = 1168\n",
      "obj = -182.326259, rho = 0.066966\n",
      "nSV = 488, nBSV = 148\n",
      "*.*\n",
      "optimization finished, #iter = 1058\n",
      "obj = -92.641240, rho = -0.152995\n",
      "nSV = 359, nBSV = 47\n",
      "*.*\n",
      "optimization finished, #iter = 1108\n",
      "obj = -98.665638, rho = 0.000964\n",
      "nSV = 398, nBSV = 52\n",
      "*.*\n",
      "optimization finished, #iter = 1108\n",
      "obj = -82.551996, rho = -0.504789\n",
      "nSV = 425, nBSV = 48\n",
      "*.*\n",
      "optimization finished, #iter = 1306\n",
      "obj = -151.356188, rho = -0.171499\n",
      "nSV = 527, nBSV = 104\n",
      "*.*\n",
      "optimization finished, #iter = 1301\n",
      "obj = -77.128707, rho = -0.310396\n",
      "nSV = 457, nBSV = 27\n",
      "*\n",
      "optimization finished, #iter = 748\n",
      "obj = -65.148438, rho = -0.570878\n",
      "nSV = 333, nBSV = 52\n",
      "*\n",
      "optimization finished, #iter = 744\n",
      "obj = -100.514674, rho = -0.616714\n",
      "nSV = 358, nBSV = 86\n",
      ".*\n",
      "optimization finished, #iter = 1642\n",
      "obj = -178.307425, rho = 0.082821\n",
      "nSV = 646, nBSV = 107\n",
      ".*\n",
      "optimization finished, #iter = 1893\n",
      "obj = -740.739325, rho = -0.225025\n",
      "nSV = 1091, nBSV = 722\n",
      "*.*\n",
      "optimization finished, #iter = 1234\n",
      "obj = -175.159087, rho = -0.401126\n",
      "nSV = 508, nBSV = 145\n",
      "*.*\n",
      "optimization finished, #iter = 1258\n",
      "obj = -107.971372, rho = -0.237622\n",
      "nSV = 482, nBSV = 60\n",
      "*.*\n",
      "optimization finished, #iter = 1082\n",
      "obj = -251.089438, rho = 0.404009\n",
      "nSV = 497, nBSV = 243\n",
      "*.*\n",
      "optimization finished, #iter = 1174\n",
      "obj = -328.843172, rho = 0.248618\n",
      "nSV = 544, nBSV = 320\n",
      "*\n",
      "optimization finished, #iter = 589\n",
      "obj = -38.111446, rho = -0.040623\n",
      "nSV = 191, nBSV = 12\n",
      "*\n",
      "optimization finished, #iter = 587\n",
      "obj = -34.934575, rho = -0.001754\n",
      "nSV = 206, nBSV = 3\n",
      "*.*\n",
      "optimization finished, #iter = 1384\n",
      "obj = -325.757041, rho = 0.622045\n",
      "nSV = 653, nBSV = 312\n",
      "*\n",
      "optimization finished, #iter = 977\n",
      "obj = -123.655433, rho = 0.361896\n",
      "nSV = 393, nBSV = 94\n",
      "*.*\n",
      "optimization finished, #iter = 1053\n",
      "obj = -116.650858, rho = 0.146088\n",
      "nSV = 339, nBSV = 88\n",
      "*.*\n",
      "optimization finished, #iter = 1100\n",
      "obj = -311.655864, rho = 0.348995\n",
      "nSV = 544, nBSV = 297\n",
      "*.*\n",
      "optimization finished, #iter = 1031\n",
      "obj = -88.412634, rho = -0.156389\n",
      "nSV = 386, nBSV = 46\n",
      "*\n",
      "optimization finished, #iter = 741\n",
      "obj = -44.980076, rho = -0.390080\n",
      "nSV = 273, nBSV = 20\n",
      "*\n",
      "optimization finished, #iter = 770\n",
      "obj = -46.947485, rho = -0.348612\n",
      "nSV = 290, nBSV = 19\n",
      "*.*\n",
      "optimization finished, #iter = 1467\n",
      "obj = -127.206480, rho = 0.240312\n",
      "nSV = 539, nBSV = 71\n",
      ".*\n",
      "optimization finished, #iter = 1526\n",
      "obj = -499.007118, rho = -0.064133\n",
      "nSV = 812, nBSV = 493\n",
      "*.*\n",
      "optimization finished, #iter = 1128\n",
      "obj = -164.361725, rho = -0.240712\n",
      "nSV = 439, nBSV = 146\n",
      "*.*\n",
      "optimization finished, #iter = 1269\n",
      "obj = -390.798882, rho = -0.076972\n",
      "nSV = 678, nBSV = 373\n",
      "*\n",
      "optimization finished, #iter = 548\n",
      "obj = -49.691351, rho = -0.278084\n",
      "nSV = 220, nBSV = 31\n",
      "*\n",
      "optimization finished, #iter = 688\n",
      "obj = -40.986418, rho = -0.197384\n",
      "nSV = 234, nBSV = 8\n",
      "*.*\n",
      "optimization finished, #iter = 1457\n",
      "obj = -394.429048, rho = 0.543858\n",
      "nSV = 723, nBSV = 362\n",
      "*.*\n",
      "optimization finished, #iter = 1140\n",
      "obj = -75.276915, rho = 0.130458\n",
      "nSV = 380, nBSV = 26\n",
      "*\n",
      "optimization finished, #iter = 821\n",
      "obj = -71.721823, rho = -0.075392\n",
      "nSV = 299, nBSV = 40\n",
      "*\n",
      "optimization finished, #iter = 885\n",
      "obj = -236.684398, rho = 0.121362\n",
      "nSV = 458, nBSV = 216\n",
      ".*\n",
      "optimization finished, #iter = 253\n",
      "obj = -48.933929, rho = 0.031320\n",
      "nSV = 129, nBSV = 29\n",
      "*\n",
      "optimization finished, #iter = 793\n",
      "obj = -91.071779, rho = 0.736227\n",
      "nSV = 375, nBSV = 72\n",
      "*\n",
      "optimization finished, #iter = 644\n",
      "obj = -53.168679, rho = 0.384361\n",
      "nSV = 263, nBSV = 35\n",
      "*\n",
      "optimization finished, #iter = 474\n",
      "obj = -58.647355, rho = 0.252540\n",
      "nSV = 192, nBSV = 44\n",
      "*\n",
      "optimization finished, #iter = 554\n",
      "obj = -49.659654, rho = 0.336403\n",
      "nSV = 233, nBSV = 28\n",
      "*\n",
      "optimization finished, #iter = 860\n",
      "obj = -75.259684, rho = 0.621675\n",
      "nSV = 385, nBSV = 51\n",
      "*\n",
      "optimization finished, #iter = 608\n",
      "obj = -56.721381, rho = 0.357133\n",
      "nSV = 272, nBSV = 35\n",
      "*\n",
      "optimization finished, #iter = 561\n",
      "obj = -43.584784, rho = 0.133235\n",
      "nSV = 207, nBSV = 12\n",
      "*\n",
      "optimization finished, #iter = 639\n",
      "obj = -44.041524, rho = 0.281120\n",
      "nSV = 246, nBSV = 14\n",
      "*.*\n",
      "optimization finished, #iter = 1432\n",
      "obj = -143.663036, rho = -0.281515\n",
      "nSV = 552, nBSV = 85\n",
      "*.*\n",
      "optimization finished, #iter = 1211\n",
      "obj = -120.857083, rho = -0.469427\n",
      "nSV = 478, nBSV = 81\n",
      "*.*\n",
      "optimization finished, #iter = 1203\n",
      "obj = -135.164338, rho = -0.333559\n",
      "nSV = 502, nBSV = 88\n",
      "*.*\n",
      "optimization finished, #iter = 1244\n",
      "obj = -264.055663, rho = -0.199145\n",
      "nSV = 537, nBSV = 240\n",
      "*.*\n",
      "optimization finished, #iter = 1151\n",
      "obj = -153.535240, rho = -0.046959\n",
      "nSV = 456, nBSV = 116\n",
      "*\n",
      "optimization finished, #iter = 945\n",
      "obj = -195.075112, rho = 0.184391\n",
      "nSV = 419, nBSV = 169\n",
      "Total nSV = 6633\n",
      "0.8062775870524767\n"
     ]
    }
   ],
   "source": [
    "from sklearn.svm import SVC\n",
    "#\n",
    "model = SVC(gamma=1,C=1,max_iter=20000,random_state=1,verbose=True)\n",
    "model.fit(x_train, y_train)\n",
    "\n",
    "score = model.score(x_test, y_test)\n",
    "print(score)"
   ]
  },
  {
   "cell_type": "code",
   "execution_count": 74,
   "metadata": {},
   "outputs": [
    {
     "name": "stdout",
     "output_type": "stream",
     "text": [
      "0.8496812162824914\n"
     ]
    },
    {
     "name": "stderr",
     "output_type": "stream",
     "text": [
      "/home/x/.local/share/virtualenvs/google-arts-B4zjrq5B/lib/python3.9/site-packages/sklearn/neural_network/_multilayer_perceptron.py:536: ConvergenceWarning: lbfgs failed to converge (status=1):\n",
      "STOP: TOTAL NO. of ITERATIONS REACHED LIMIT.\n",
      "\n",
      "Increase the number of iterations (max_iter) or scale the data as shown in:\n",
      "    https://scikit-learn.org/stable/modules/preprocessing.html\n",
      "  self.n_iter_ = _check_optimize_result(\"lbfgs\", opt_res, self.max_iter)\n"
     ]
    }
   ],
   "source": [
    "from sklearn.neural_network import MLPClassifier\n",
    "#\n",
    "model = MLPClassifier(solver='lbfgs', alpha=1e-5,max_iter=500,\\\n",
    "                     hidden_layer_sizes=(25, 10), random_state=1)\n",
    "model.fit(x_train, y_train)\n",
    "\n",
    "score = model.score(x_test, y_test)\n",
    "print(score)"
   ]
  }
 ],
 "metadata": {
  "kernelspec": {
   "display_name": "google-arts-B4zjrq5B",
   "language": "python",
   "name": "python3"
  },
  "language_info": {
   "codemirror_mode": {
    "name": "ipython",
    "version": 3
   },
   "file_extension": ".py",
   "mimetype": "text/x-python",
   "name": "python",
   "nbconvert_exporter": "python",
   "pygments_lexer": "ipython3",
   "version": "3.9.16"
  },
  "orig_nbformat": 4,
  "vscode": {
   "interpreter": {
    "hash": "1c81fc80024810f16025402e02c6d801feeae6bca10fef7a7f6122b54a7b3b46"
   }
  }
 },
 "nbformat": 4,
 "nbformat_minor": 2
}
