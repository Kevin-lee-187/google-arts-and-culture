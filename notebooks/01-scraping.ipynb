{
 "cells": [
  {
   "cell_type": "code",
   "execution_count": 11,
   "metadata": {},
   "outputs": [
    {
     "name": "stdout",
     "output_type": "stream",
     "text": [
      "The autoreload extension is already loaded. To reload it, use:\n",
      "  %reload_ext autoreload\n"
     ]
    }
   ],
   "source": [
    "%load_ext autoreload\n",
    "\n",
    "%autoreload 3"
   ]
  },
  {
   "cell_type": "code",
   "execution_count": 12,
   "metadata": {},
   "outputs": [],
   "source": [
    "%reload_ext autoreload"
   ]
  },
  {
   "cell_type": "code",
   "execution_count": 9,
   "metadata": {},
   "outputs": [
    {
     "name": "stdout",
     "output_type": "stream",
     "text": [
      "Requirement already satisfied: wget in c:\\users\\user\\.virtualenvs\\google-arts-0o2xogz3\\lib\\site-packages (3.2)\n"
     ]
    },
    {
     "name": "stderr",
     "output_type": "stream",
     "text": [
      "WARNING: You are using pip version 20.2.4; however, version 22.3.1 is available.\n",
      "You should consider upgrading via the 'C:\\Users\\user\\.virtualenvs\\google-arts-0o2XoGZ3\\Scripts\\python.exe -m pip install --upgrade pip' command.\n"
     ]
    },
    {
     "name": "stdout",
     "output_type": "stream",
     "text": [
      "\n",
      "Saved under chromedriver_win32.zip\n"
     ]
    }
   ],
   "source": [
    "!pip install wget\n",
    "!python -m wget https://chromedriver.storage.googleapis.com/108.0.5359.71/chromedriver_win32.zip"
   ]
  },
  {
   "attachments": {},
   "cell_type": "markdown",
   "metadata": {},
   "source": [
    "# Packages"
   ]
  },
  {
   "cell_type": "code",
   "execution_count": 13,
   "metadata": {},
   "outputs": [],
   "source": [
    "import pyprojroot\n",
    "from pathlib  import Path\n",
    "import time\n",
    "from concurrent.futures import ProcessPoolExecutor\n",
    "import pandas as pd\n",
    "from src.scraping.scraping_pictures import ScrapingPictures\n"
   ]
  },
  {
   "cell_type": "code",
   "execution_count": 138,
   "metadata": {},
   "outputs": [
    {
     "name": "stdout",
     "output_type": "stream",
     "text": [
      "\u001b[0;31mInit signature:\u001b[0m \u001b[0mScrapingPictures\u001b[0m\u001b[0;34m(\u001b[0m\u001b[0mdriver_path\u001b[0m\u001b[0;34m,\u001b[0m \u001b[0mcolor_param\u001b[0m\u001b[0;34m:\u001b[0m \u001b[0mstr\u001b[0m\u001b[0;34m)\u001b[0m \u001b[0;34m->\u001b[0m \u001b[0;32mNone\u001b[0m\u001b[0;34m\u001b[0m\u001b[0;34m\u001b[0m\u001b[0m\n",
      "\u001b[0;31mDocstring:\u001b[0m      <no docstring>\n",
      "\u001b[0;31mFile:\u001b[0m           ~/.local/share/virtualenvs/google-arts-B4zjrq5B/lib/python3.9/site-packages/src/scraping/scraping_pictures.py\n",
      "\u001b[0;31mType:\u001b[0m           type\n",
      "\u001b[0;31mSubclasses:\u001b[0m     "
     ]
    }
   ],
   "source": [
    "ScrapingPictures?"
   ]
  },
  {
   "attachments": {},
   "cell_type": "markdown",
   "metadata": {},
   "source": [
    "# Paths"
   ]
  },
  {
   "cell_type": "code",
   "execution_count": 14,
   "metadata": {},
   "outputs": [],
   "source": [
    "root_path =  pyprojroot.here()\n",
    "path_driver = (root_path / \"notebooks\"/'chromedriver.exe').relative_to('/')\n",
    "data_raw_folder = (root_path / \"data\"/'raw')"
   ]
  },
  {
   "attachments": {},
   "cell_type": "markdown",
   "metadata": {},
   "source": [
    "# Scraping"
   ]
  },
  {
   "cell_type": "code",
   "execution_count": 23,
   "metadata": {},
   "outputs": [],
   "source": [
    "page_sections = [\"WHITE\",\"PINK\",\"YELLOW\",\"PURPLE\",\"BLUE\",\"TEAL\",\"GREEN\",\"ORANGE\",\"RED\",\"BROWN\",\"BLACK\"] \n",
    "scroll_down_times = 120"
   ]
  },
  {
   "cell_type": "code",
   "execution_count": 24,
   "metadata": {},
   "outputs": [],
   "source": [
    "def scrapePictures(color) -> pd.DataFrame:\n",
    "    scraper = ScrapingPictures(path_driver,color)\n",
    "    scraper.open()\n",
    "    scraper.scroll_down(scroll_down_times)\n",
    "    time.sleep(8)\n",
    "    df = scraper.scrape()\n",
    "    return df"
   ]
  },
  {
   "cell_type": "code",
   "execution_count": 19,
   "metadata": {},
   "outputs": [],
   "source": [
    "def parallelScrapePictures() -> pd.DataFrame:\n",
    "    with ProcessPoolExecutor() as executor:\n",
    "        scrape_df_list = executor.map(scrapePictures, page_sections)\n",
    "        scrape_df = pd.concat(list(scrape_df_list), ignore_index=True)\n",
    "        return scrape_df"
   ]
  },
  {
   "cell_type": "code",
   "execution_count": 26,
   "metadata": {},
   "outputs": [
    {
     "name": "stdout",
     "output_type": "stream",
     "text": [
      "Open page section YELLOW\n",
      "Open page section BLUE\n",
      "Open page section PINK\n",
      "Open page section TEAL\n",
      "Open page section BLACK\n",
      "Open page section GREEN\n",
      "Open page section RED\n",
      "Open page section BROWN\n",
      "Open page section ORANGE\n",
      "Open page section PURPLE\n",
      "Open page section WHITE\n",
      "Finish scrolling down\n",
      "Finish scrolling down\n",
      "Finish scrolling down\n",
      "Finish scrolling down\n",
      "Finish scrolling down\n",
      "Finish scrolling down\n",
      "Finish scrolling down\n",
      "Finish scrolling down\n",
      "Finish scrolling down\n",
      "Finish scrolling downFinish scrolling down\n",
      "\n",
      "Finished in 373.1641500099995 seconds\n"
     ]
    }
   ],
   "source": [
    "t1 = time.perf_counter()\n",
    "df = parallelScrapePictures() \n",
    "t2 = time.perf_counter()\n",
    "print(f'Finished in {t2-t1} seconds')"
   ]
  },
  {
   "cell_type": "code",
   "execution_count": 27,
   "metadata": {},
   "outputs": [
    {
     "data": {
      "text/plain": [
       "16378"
      ]
     },
     "execution_count": 27,
     "metadata": {},
     "output_type": "execute_result"
    }
   ],
   "source": [
    "len(df)"
   ]
  },
  {
   "cell_type": "code",
   "execution_count": 30,
   "metadata": {},
   "outputs": [
    {
     "data": {
      "text/html": [
       "<div>\n",
       "<style scoped>\n",
       "    .dataframe tbody tr th:only-of-type {\n",
       "        vertical-align: middle;\n",
       "    }\n",
       "\n",
       "    .dataframe tbody tr th {\n",
       "        vertical-align: top;\n",
       "    }\n",
       "\n",
       "    .dataframe thead th {\n",
       "        text-align: right;\n",
       "    }\n",
       "</style>\n",
       "<table border=\"1\" class=\"dataframe\">\n",
       "  <thead>\n",
       "    <tr style=\"text-align: right;\">\n",
       "      <th></th>\n",
       "      <th>image</th>\n",
       "      <th>page</th>\n",
       "      <th>color</th>\n",
       "    </tr>\n",
       "  </thead>\n",
       "  <tbody>\n",
       "    <tr>\n",
       "      <th>9526</th>\n",
       "      <td>url(\"https://lh3.googleusercontent.com/ci/AC_F...</td>\n",
       "      <td>https://artsandculture.google.com/asset/escrav...</td>\n",
       "      <td>BROWN</td>\n",
       "    </tr>\n",
       "    <tr>\n",
       "      <th>6055</th>\n",
       "      <td>url(\"https://lh3.googleusercontent.com/ci/AC_F...</td>\n",
       "      <td>https://artsandculture.google.com/asset/landsc...</td>\n",
       "      <td>GREEN</td>\n",
       "    </tr>\n",
       "    <tr>\n",
       "      <th>6703</th>\n",
       "      <td>url(\"https://lh3.googleusercontent.com/ci/AC_F...</td>\n",
       "      <td>https://artsandculture.google.com/asset/fenest...</td>\n",
       "      <td>GREEN</td>\n",
       "    </tr>\n",
       "    <tr>\n",
       "      <th>10053</th>\n",
       "      <td>url(\"https://lh3.googleusercontent.com/ci/AC_F...</td>\n",
       "      <td>https://artsandculture.google.com/asset/pierro...</td>\n",
       "      <td>BROWN</td>\n",
       "    </tr>\n",
       "    <tr>\n",
       "      <th>3718</th>\n",
       "      <td>url(\"https://lh3.googleusercontent.com/ci/AC_F...</td>\n",
       "      <td>https://artsandculture.google.com/asset/hostag...</td>\n",
       "      <td>BLUE</td>\n",
       "    </tr>\n",
       "    <tr>\n",
       "      <th>12819</th>\n",
       "      <td>url(\"https://lh3.googleusercontent.com/ci/AC_F...</td>\n",
       "      <td>https://artsandculture.google.com/asset/a-stor...</td>\n",
       "      <td>BLACK</td>\n",
       "    </tr>\n",
       "    <tr>\n",
       "      <th>2353</th>\n",
       "      <td>url(\"https://lh3.googleusercontent.com/ci/AC_F...</td>\n",
       "      <td>https://artsandculture.google.com/asset/white-...</td>\n",
       "      <td>PURPLE</td>\n",
       "    </tr>\n",
       "    <tr>\n",
       "      <th>1649</th>\n",
       "      <td>url(\"https://lh3.googleusercontent.com/ci/AC_F...</td>\n",
       "      <td>https://artsandculture.google.com/asset/powley...</td>\n",
       "      <td>YELLOW</td>\n",
       "    </tr>\n",
       "    <tr>\n",
       "      <th>15130</th>\n",
       "      <td>url(\"https://lh3.googleusercontent.com/ci/AC_F...</td>\n",
       "      <td>https://artsandculture.google.com/asset/self-p...</td>\n",
       "      <td>BLACK</td>\n",
       "    </tr>\n",
       "    <tr>\n",
       "      <th>16313</th>\n",
       "      <td>url(\"https://lh3.googleusercontent.com/ci/AC_F...</td>\n",
       "      <td>https://artsandculture.google.com/asset/gassed...</td>\n",
       "      <td>BLACK</td>\n",
       "    </tr>\n",
       "    <tr>\n",
       "      <th>10156</th>\n",
       "      <td>url(\"https://lh3.googleusercontent.com/ci/AC_F...</td>\n",
       "      <td>https://artsandculture.google.com/asset/hampst...</td>\n",
       "      <td>BROWN</td>\n",
       "    </tr>\n",
       "    <tr>\n",
       "      <th>15805</th>\n",
       "      <td>url(\"https://lh3.googleusercontent.com/ci/AC_F...</td>\n",
       "      <td>https://artsandculture.google.com/asset/comtes...</td>\n",
       "      <td>BLACK</td>\n",
       "    </tr>\n",
       "    <tr>\n",
       "      <th>10152</th>\n",
       "      <td>url(\"https://lh3.googleusercontent.com/ci/AC_F...</td>\n",
       "      <td>https://artsandculture.google.com/asset/farrag...</td>\n",
       "      <td>BROWN</td>\n",
       "    </tr>\n",
       "    <tr>\n",
       "      <th>74</th>\n",
       "      <td>url(\"https://lh3.googleusercontent.com/ci/AC_F...</td>\n",
       "      <td>https://artsandculture.google.com/asset/oil-la...</td>\n",
       "      <td>WHITE</td>\n",
       "    </tr>\n",
       "    <tr>\n",
       "      <th>7725</th>\n",
       "      <td>url(\"https://lh3.googleusercontent.com/ci/AC_F...</td>\n",
       "      <td>https://artsandculture.google.com/asset/painti...</td>\n",
       "      <td>ORANGE</td>\n",
       "    </tr>\n",
       "  </tbody>\n",
       "</table>\n",
       "</div>"
      ],
      "text/plain": [
       "                                                   image  \\\n",
       "9526   url(\"https://lh3.googleusercontent.com/ci/AC_F...   \n",
       "6055   url(\"https://lh3.googleusercontent.com/ci/AC_F...   \n",
       "6703   url(\"https://lh3.googleusercontent.com/ci/AC_F...   \n",
       "10053  url(\"https://lh3.googleusercontent.com/ci/AC_F...   \n",
       "3718   url(\"https://lh3.googleusercontent.com/ci/AC_F...   \n",
       "12819  url(\"https://lh3.googleusercontent.com/ci/AC_F...   \n",
       "2353   url(\"https://lh3.googleusercontent.com/ci/AC_F...   \n",
       "1649   url(\"https://lh3.googleusercontent.com/ci/AC_F...   \n",
       "15130  url(\"https://lh3.googleusercontent.com/ci/AC_F...   \n",
       "16313  url(\"https://lh3.googleusercontent.com/ci/AC_F...   \n",
       "10156  url(\"https://lh3.googleusercontent.com/ci/AC_F...   \n",
       "15805  url(\"https://lh3.googleusercontent.com/ci/AC_F...   \n",
       "10152  url(\"https://lh3.googleusercontent.com/ci/AC_F...   \n",
       "74     url(\"https://lh3.googleusercontent.com/ci/AC_F...   \n",
       "7725   url(\"https://lh3.googleusercontent.com/ci/AC_F...   \n",
       "\n",
       "                                                    page   color  \n",
       "9526   https://artsandculture.google.com/asset/escrav...   BROWN  \n",
       "6055   https://artsandculture.google.com/asset/landsc...   GREEN  \n",
       "6703   https://artsandculture.google.com/asset/fenest...   GREEN  \n",
       "10053  https://artsandculture.google.com/asset/pierro...   BROWN  \n",
       "3718   https://artsandculture.google.com/asset/hostag...    BLUE  \n",
       "12819  https://artsandculture.google.com/asset/a-stor...   BLACK  \n",
       "2353   https://artsandculture.google.com/asset/white-...  PURPLE  \n",
       "1649   https://artsandculture.google.com/asset/powley...  YELLOW  \n",
       "15130  https://artsandculture.google.com/asset/self-p...   BLACK  \n",
       "16313  https://artsandculture.google.com/asset/gassed...   BLACK  \n",
       "10156  https://artsandculture.google.com/asset/hampst...   BROWN  \n",
       "15805  https://artsandculture.google.com/asset/comtes...   BLACK  \n",
       "10152  https://artsandculture.google.com/asset/farrag...   BROWN  \n",
       "74     https://artsandculture.google.com/asset/oil-la...   WHITE  \n",
       "7725   https://artsandculture.google.com/asset/painti...  ORANGE  "
      ]
     },
     "execution_count": 30,
     "metadata": {},
     "output_type": "execute_result"
    }
   ],
   "source": [
    "df.sample(15)"
   ]
  },
  {
   "attachments": {},
   "cell_type": "markdown",
   "metadata": {},
   "source": [
    "# Export Picture Data"
   ]
  },
  {
   "cell_type": "code",
   "execution_count": 67,
   "metadata": {},
   "outputs": [],
   "source": [
    "df.to_csv(data_raw_folder/'pictures.csv',index=False)"
   ]
  },
  {
   "cell_type": "code",
   "execution_count": 70,
   "metadata": {},
   "outputs": [
    {
     "name": "stdout",
     "output_type": "stream",
     "text": [
      "Sleeping 5 second(s)...Sleeping 3 second(s)...Sleeping 4 second(s)...Sleeping 2 second(s)...Sleeping 1 second(s)...\n",
      "\n",
      "\n",
      "\n",
      "\n",
      "['Done Sleeping...5', 'Done Sleeping...4', 'Done Sleeping...3', 'Done Sleeping...2', 'Done Sleeping...1']\n"
     ]
    }
   ],
   "source": [
    "from concurrent.futures import ProcessPoolExecutor\n",
    "\n",
    "def do_something(seconds):\n",
    "    print(f'Sleeping {seconds} second(s)...')\n",
    "    time.sleep(seconds)\n",
    "    return f'Done Sleeping...{seconds}'\n",
    "\n",
    "if __name__==\"__main__\":\n",
    "    with ProcessPoolExecutor() as executor:\n",
    "        secs = [5, 4, 3, 2, 1]\n",
    "        results = executor.map(do_something, secs)\n",
    "    print(list(results))"
   ]
  }
 ],
 "metadata": {
  "kernelspec": {
   "display_name": "google-arts-B4zjrq5B",
   "language": "python",
   "name": "python3"
  },
  "language_info": {
   "codemirror_mode": {
    "name": "ipython",
    "version": 3
   },
   "file_extension": ".py",
   "mimetype": "text/x-python",
   "name": "python",
   "nbconvert_exporter": "python",
   "pygments_lexer": "ipython3",
   "version": "3.9.16"
  },
  "orig_nbformat": 4,
  "vscode": {
   "interpreter": {
    "hash": "1c81fc80024810f16025402e02c6d801feeae6bca10fef7a7f6122b54a7b3b46"
   }
  }
 },
 "nbformat": 4,
 "nbformat_minor": 2
}
