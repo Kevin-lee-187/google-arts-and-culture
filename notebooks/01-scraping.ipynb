{
 "cells": [
  {
   "cell_type": "code",
   "execution_count": 1,
   "metadata": {},
   "outputs": [],
   "source": [
    "%load_ext autoreload\n",
    "\n",
    "%autoreload 2"
   ]
  },
  {
   "cell_type": "code",
   "execution_count": 8,
   "metadata": {},
   "outputs": [],
   "source": [
    "%reload_ext autoreload"
   ]
  },
  {
   "cell_type": "code",
   "execution_count": 9,
   "metadata": {},
   "outputs": [
    {
     "name": "stdout",
     "output_type": "stream",
     "text": [
      "Requirement already satisfied: wget in c:\\users\\user\\.virtualenvs\\google-arts-0o2xogz3\\lib\\site-packages (3.2)\n"
     ]
    },
    {
     "name": "stderr",
     "output_type": "stream",
     "text": [
      "WARNING: You are using pip version 20.2.4; however, version 22.3.1 is available.\n",
      "You should consider upgrading via the 'C:\\Users\\user\\.virtualenvs\\google-arts-0o2XoGZ3\\Scripts\\python.exe -m pip install --upgrade pip' command.\n"
     ]
    },
    {
     "name": "stdout",
     "output_type": "stream",
     "text": [
      "\n",
      "Saved under chromedriver_win32.zip\n"
     ]
    }
   ],
   "source": [
    "!pip install wget\n",
    "!python -m wget https://chromedriver.storage.googleapis.com/108.0.5359.71/chromedriver_win32.zip"
   ]
  },
  {
   "cell_type": "code",
   "execution_count": 2,
   "metadata": {},
   "outputs": [
    {
     "name": "stdout",
     "output_type": "stream",
     "text": [
      "Open page section WHITE\n",
      "Finish scrolling down\n",
      "[{'image': 'url(\"https://lh3.googleusercontent.com/ci/AC_FhM_TtHnpV4uxifY2CR4N_7aK3dNuIQaNCvCLymW8qlht_f4w6RxNpwLJxcGe94_hKVdNJvfrHMQ=w313-c-h313-rw-v1\")', 'page': 'https://artsandculture.google.com/asset/the-magpie/rQGnadHwK8lSmg'}, {'image': 'url(\"https://lh3.googleusercontent.com/ci/AC_FhM8E27-JPnDd0MS2xdUy025M8a6HVoePPU8qxJ4FRcq--XVPtlKhgluQxwg501cHDCMnkdF21C4=w313-c-h313-fcrop64=1,00000d37ffff8ce4-rw-v1\")', 'page': 'https://artsandculture.google.com/asset/symphony-in-white-no-1-the-white-girl/egEsaSX979J8mw'}, {'image': 'url(\"https://lh3.googleusercontent.com/ci/AC_FhM9a9ZIa8v51w_ibyeqr53ek7YslNn9gRH35L83X9aB30hIil5aUE98Wgeng24RI5bNdnc7m5VY=w313-c-h313-fcrop64=1,00000b77ffffdd97-rw-v1\")', 'page': 'https://artsandculture.google.com/asset/the-cradle/WAE_4Ek4Dn6EnA'}, {'image': 'url(\"https://lh3.googleusercontent.com/ci/AC_FhM_xbsnsclF0ovIA8Llr8Uo8ZzEmsutG2SEed6Fl5FwvMMySsNpwwfj5GgjYPcyBXXBW3GAlw2g=w313-c-h313-fcrop64=1,3d7a0000fe28ffff-rw-v1\")', 'page': 'https://artsandculture.google.com/asset/the-cripples-ls-lowry/3QEUI4K6UzI6Ww'}, {'image': 'url(\"https://lh3.googleusercontent.com/ci/AC_FhM9JZeRyGMgjTTh1pzNSIJFvVuhM9T0A-ODxZWD3ukUgji7mOzAbsVrm1KyBRzXlwXwn57Qc2jDF=w313-c-h313-fcrop64=1,00000c39ffffe3fa-rw-v1\")', 'page': 'https://artsandculture.google.com/asset/portrait-of-ann-ls-lowry/FgGeanu3MI-iiA'}, {'image': 'url(\"https://lh3.googleusercontent.com/ci/AC_FhM9DIrk3gViJJpt9HEMAgAmxSayynAUp80OTIeHpceTjgR2HWiEA3AVuyOzCvMn93vRZyh-ea9s=w313-c-h313-fcrop64=1,2cb40000d34affff-rw-v1\")', 'page': 'https://artsandculture.google.com/asset/summer-evening-on-skagen-s%C3%B8nderstrand-peder-severin-kr%C3%B8yer/_gEOHIMEsC_EQg'}, {'image': 'url(\"https://lh3.googleusercontent.com/ci/AC_FhM84g1AgSNpv_K_rcQNS67Eztr8LilOzxI5uqxH0f26vQmMoiskgax22e-gWqWa98DuXpq6XBA=w313-c-h313-rw-v1\")', 'page': 'https://artsandculture.google.com/asset/ram-s-head-blue-morning-glory-georgia-o-keeffe/XQEbG_-lJd-T2w'}, {'image': 'url(\"https://lh3.googleusercontent.com/ci/AC_FhM9oxWAeVeL1W1iXeqwy8Olja859PHIhyw8ngjqr4LpikbJW8dywQmciMKvVjKs_mQM2yIUuAjM=w313-c-h313-rw-v1\")', 'page': 'https://artsandculture.google.com/asset/composition-with-red-yellow-and-blue-piet-mondriaan/2QH2qSqVtHILrg'}, {'image': 'url(\"https://lh3.googleusercontent.com/ci/AC_FhM_ZOXAk8w5qp5TKlevrt_nYJdUWYR1ND892je98QTOGGvb4RloxAPsrnwHwyIvmBG6-8ZuPr0g=w313-c-h313-fcrop64=1,21910000de6dffff-rw-v1\")', 'page': 'https://artsandculture.google.com/asset/mother-joaqu%C3%ADn-sorolla-y-bastida/QAGMMtJioH0OrA'}, {'image': 'url(\"https://lh3.googleusercontent.com/ci/AC_FhM8jYSa84LAGsqsXdyQzrQC_0yPhEsCnyy3phzHtv7Hzg8VkY2lKyHrCVleBaZUQ289ILLLSnGvK=w313-c-h313-fcrop64=1,202e0000dfd0ffff-rw-v1\")', 'page': 'https://artsandculture.google.com/asset/market-scene-northern-town-ls-lowry/8wH_RxS1pbJvjg'}, {'image': 'url(\"https://lh3.googleusercontent.com/ci/AC_FhM8Ey29Q9gdC8uPJ36Menv1pquZhPQMm0AtBvr7j4dTg2irS7tQv9ZE7SRb5Dd2g3hPAq_LMmA=w313-c-h313-rw-v1\")', 'page': 'https://artsandculture.google.com/asset/man-lying-on-a-wall-ls-lowry/_gFc2rrNxaNxGA'}, {'image': 'url(\"https://lh3.googleusercontent.com/ci/AC_FhM-FRrdDOefuNwaaBIlK_s-luQgopxh1JGNQZDFEgoqQHEqavPExSS3_IQAWV9q8NTwxaiJdPG8=w313-c-h313-rw-v1\")', 'page': 'https://artsandculture.google.com/asset/composition-10-in-black-and-white-piet-mondriaan/NgEozt-0sWt3eQ'}, {'image': 'url(\"https://lh3.googleusercontent.com/ci/AC_FhM84i6-XeGv7F0IzCoDn1t51ijWcCKs5ae3wmmQZXKNrpZWRMS2DaP0w_H1p37hJtkkFyYW1FTdS=w313-c-h313-rw-v1\")', 'page': 'https://artsandculture.google.com/asset/stroyuschiysya-dom-house-under-construction-kasimir-malevich/cAH5v2Pqbdb2GQ'}, {'image': 'url(\"https://lh3.googleusercontent.com/ci/AC_FhM8GRimFps51xg6zKwtFXfX81gptBD1XZIHxzu1UbLXHzZ4mfUMz29dswJ6h58AMHiANpZXonuo=w313-c-h313-rw-v1\")', 'page': 'https://artsandculture.google.com/asset/composition-in-colour-a-piet-mondriaan/1gEhhdK5L6rHEg'}, {'image': 'url(\"https://lh3.googleusercontent.com/ci/AC_FhM-cJTbZQ_O_stX4WpoSnBywAOPq0GuYjDIUcZ8O8S9pFoNUK5N6pnbx5WeChS8P7ogwOQKtkA=w313-c-h313-rw-v1\")', 'page': 'https://artsandculture.google.com/asset/my-last-door-georgia-o-keeffe/7QEcKjDABvXG5g'}, {'image': 'url(\"https://lh3.googleusercontent.com/ci/AC_FhM_aZ5v2841ud2_oy_xgXCbfDDET_jxFk1CqTeux-b2O8Pn93kxrSpJy4fBJuvPJKCYvd39rSQ=w313-c-h313-fcrop64=1,00000755ffffe9fd-rw-v1\")', 'page': 'https://artsandculture.google.com/asset/no-swimming/zAFlWMQ4wZmEqg'}, {'image': 'url(\"https://lh3.googleusercontent.com/ci/AC_FhM9FbFdqNhA7CX5RKajwAeU7NuA9PucUmgEIc1mV9INJzJ8SXbq2tbVEIOkpTW5bRTXRfoVaoGU=w313-c-h313-rw-v1\")', 'page': 'https://artsandculture.google.com/asset/selfish-heart-olga-costa/cQEN4GmAKDaZYg'}, {'image': 'url(\"https://lh3.googleusercontent.com/ci/AC_FhM8_wHigoAeJxVMZSJsD57FDCaY34iyOaiI-sN7-lvw48zIwqSaVEFvSIzF1__GBEe8_ftTGu5Q=w313-c-h313-rw-v1\")', 'page': 'https://artsandculture.google.com/asset/trade-gifts-for-trading-land-with-white-people-jaune-quick-to-see-smith/XgFkqi0EWp9OPg'}, {'image': 'url(\"https://lh3.googleusercontent.com/ci/AC_FhM8mq0V4Z0Ayg3hs1bmfzUuYTDQYw3-wPra_YpKMfvuJX1S8Rg3i_Up3PtADPeZFuJsGSxzHNg=w313-c-h313-fcrop64=1,220c0000ddf2ffff-rw-v1\")', 'page': 'https://artsandculture.google.com/asset/a-holiday-at-mentone-charles-conder/kwH-IKukyhVa1w'}, {'image': 'url(\"https://lh3.googleusercontent.com/ci/AC_FhM-FgTNy-MP6eCFvrXOqVmZtnMvZ4f71UcK4HYfPVxMqUyecyq6y794hnBeGejLfL2T6WLTCpQ=w313-c-h313-rw-v1\")', 'page': 'https://artsandculture.google.com/asset/asparagus/DwHM0deUz6zA8Q'}, {'image': 'url(\"https://lh3.googleusercontent.com/ci/AC_FhM_y9ipSpqLdRXYRwB6duI19RToBZFAkWCL5L-WrBMzoDykUiFvhhLuahxxJsLrX1eH9wrnRIq8=w313-c-h313-fcrop64=1,5e560000cd51ffff-rw-v1\")', 'page': 'https://artsandculture.google.com/asset/a-stroll-on-the-beach/QAEYZKXo8LlVig'}, {'image': 'url(\"https://lh3.googleusercontent.com/ci/AC_FhM_c8heDjFVcJ1PTJupxp5rAAvCY3kWRXpjHj3xjnH2hv3G1OcF6BibEIQZqVq94Vl9G-Hk0v495=w313-c-h313-rw-v1\")', 'page': 'https://artsandculture.google.com/asset/painterly-realism-of-a-football-player-%E2%80%93-color-masses-in-the-4th-dimension-kazimir-malevich-russian-born-ukraine-1878%E2%80%931935/HAFbsVPXhzyLMg'}, {'image': 'url(\"https://lh3.googleusercontent.com/ci/AC_FhM8gXJj7sM0OTTjYX65wqwByL1z-GabUP5OSw4NmilgY9QeUdVUngzwXp8H7QWy7X6N84LD8jzHR=w313-c-h313-fcrop64=1,000011ccffffd12e-rw-v1\")', 'page': 'https://artsandculture.google.com/asset/a-moura-dario-villares-barbosa/NgGgKrnhzE_EDw'}, {'image': 'url(\"https://lh3.googleusercontent.com/ci/AC_FhM-1eM5j_b9Q8Jw9V6dvaB0puuxP068wsaZfyhuEschoGKBR662nclUVvBEMKMDmG7hr8gQDR2U=w313-c-h313-rw-v1\")', 'page': 'https://artsandculture.google.com/asset/a-view-from-dosseringen-near-the-sortedam-lake-looking-towards-the-suburb-n%C3%B8rrebro-outside-copenhagen-christen-k%C3%B8bke/nAF-iUwGNXFdNA'}, {'image': 'url(\"https://lh3.googleusercontent.com/ci/AC_FhM8ATMORCmj98PoNKZYQzQT38rGjzpoYUkwZAWBxWqjH1GpH5EjLyHvblrmdtD7gW8jjMttxYL8e=w313-c-h313-rw-v1\")', 'page': 'https://artsandculture.google.com/asset/the-loing-s-canal/_wHHv1ikAghaiw'}, {'image': 'url(\"https://lh3.googleusercontent.com/ci/AC_FhM9ck1iBep54yEPRZGkBXxQHqC9nVSBRnBpqtxa0asSp_eQGRSji3-SsDUPNkVm3OKRSaMd5uig=w313-c-h313-rw-v1\")', 'page': 'https://artsandculture.google.com/asset/gentleman-looking-at-something-ls-lowry/SQGgzxA0A7R-Xg'}, {'image': 'url(\"https://lh3.googleusercontent.com/ci/AC_FhM-xC2aBstZnvA7ScoFjJnUXi6nGBGm_YR3v--DfukKY_NEEh2KGPrPJAdLiuk6C4U-oiQ_OHIg=w313-c-h313-rw-v1\")', 'page': 'https://artsandculture.google.com/asset/introducci%C3%B3n-a-la-esperanza/jAGFpjuDCBmAyw'}, {'image': 'url(\"https://lh3.googleusercontent.com/ci/AC_FhM-iQhtZGZQaRx7WMjqtbbAs1tvhE2ZPGe7aDfz11E-eTrRx4Funl9VqphIrofy-gHza3aGAnS4w=w313-c-h313-rw-v1\")', 'page': 'https://artsandculture.google.com/asset/space-concept-lucio-fontana/nwE60qWym16wFg'}, {'image': 'url(\"https://lh3.googleusercontent.com/ci/AC_FhM-TYTWucIFdOdVKOPzm3iUgAIg2eXSkoSSEuQf2JX53TkN6a2NtbB6fTIok3Hg3gR_zzhm-=w313-c-h313-fcrop64=1,253f0000dabfffff-rw-v1\")', 'page': 'https://artsandculture.google.com/asset/washing-on-the-ice-pekka-halonen/0gFycfnB-HorCA'}, {'image': 'url(\"https://lh3.googleusercontent.com/ci/AC_FhM8BNkRZnawxLwQjy6x_nbd9KQ6tmw3O6gUvMLnrJ-hwkqZlQmcsdu7zNjy5nrVaCBTDxJVBnnk=w313-c-h313-rw-v1\")', 'page': 'https://artsandculture.google.com/asset/1935-white-relief-ben-nicholson/vAEn4KAcs2Melw'}, {'image': 'url(\"https://lh3.googleusercontent.com/ci/AC_FhM-gS0asH_mh9VovrQa-hy7xzNxDmW5pa0_fYPVTrN1QTzugeGhS7DzTgGjIeofT1JKy7XMBRCA=w313-c-h313-rw-v1\")', 'page': 'https://artsandculture.google.com/asset/spatial-concept-lucio-fontana/0wHUg86VVJDb9g'}, {'image': 'url(\"https://lh3.googleusercontent.com/ci/AC_FhM8ZSeok-6zgeAtx12m-gbNxit6RyUnxR5jcBL0Wqcy6W5FDjEF8UjU0HStinkDrPIgyVFxevBvw=w313-c-h313-rw-v1\")', 'page': 'https://artsandculture.google.com/asset/a-wreck-with-fishing-boats-joseph-mallord-william-turner/4gF2YiZVQ4ikcw'}, {'image': 'url(\"https://lh3.googleusercontent.com/ci/AC_FhM92xg3GeDQwa9-DWY555DPOynE0EzX3EEZiarB6f9-H4Qg0otN3lawhNQbxTKJL_bVSGx9kuA=w313-c-h313-rw-v1\")', 'page': 'https://artsandculture.google.com/asset/veil-vi-joseph-havel/9wFwHviNL0bRMw'}, {'image': 'url(\"https://lh3.googleusercontent.com/ci/AC_FhM_ysOLSULcCanPX38umCS_bpv5WAobWNjfMWD_3hUIxGMmZ5Jx7s7Dk0SO805YGpne0otwyp4KY=w313-c-h313-fcrop64=1,000a0000fff4ffff-rw-v1\")', 'page': 'https://artsandculture.google.com/asset/fishing-trip-they-ll-be-coming-back-next-week/ZQGS3jWsjWsXqA'}, {'image': 'url(\"https://lh3.googleusercontent.com/ci/AC_FhM_eYY2IoKgSKlqRtk8KckKd7KI6Mp6IwtIeQxQi8ZOdatojy3iy0wKbJtm22ZXosAToRsi_1SM=w313-c-h313-fcrop64=1,36f30000c90bffff-rw-v1\")', 'page': 'https://artsandculture.google.com/asset/winter-scene-on-a-frozen-canal/mQG53metwNY8fQ'}, {'image': 'url(\"https://lh3.googleusercontent.com/ci/AC_FhM9INLcczQDMjOYGgJcCMjl0zO9za76aYi8BRFAJWmzuYSYT0qMN-Zp6HrJqX1oCQGCKrniN=w313-c-h313-fcrop64=1,00000f8bffffd15b-rw-v1\")', 'page': 'https://artsandculture.google.com/asset/rosina-ferrara-head-of-a-capri-girl-john-singer-sargent/5gFt9fD4q9RVFg'}, {'image': 'url(\"https://lh3.googleusercontent.com/ci/AC_FhM8Vx20DlqDf-Sjj4W1mis7ljhmEcnJvLSlJiZkVzFj20HRna8mqU8Opn5v3nAqyHV3dS-cPjH0L=w313-c-h313-rw-v1\")', 'page': 'https://artsandculture.google.com/asset/winter-harmony/gQEER_1tjd7E3A'}, {'image': 'none', 'page': 'https://artsandculture.google.com/asset/composition-en-rouge-jaune-et-bleu-composition-in-red-yellow-and-blue-piet-mondrian/KAEbs40iZQ_taA'}, {'image': 'none', 'page': 'https://artsandculture.google.com/asset/saint-werner-master-of-messkirch/XAEKKA1Cd1s6Vg'}, {'image': 'none', 'page': 'https://artsandculture.google.com/asset/the-machanism-of-meaning-no-2-splitting-of-meaning-shusaku-arakawa-and-madeline-gins/xgEUgQw0CnJ4eA'}, {'image': 'none', 'page': 'https://artsandculture.google.com/asset/in-the-garden-of-haminalahti-ferdinand-von-wright/BQFmh9LTZQl8HA'}, {'image': 'none', 'page': 'https://artsandculture.google.com/asset/composition-in-colours-composition-no-i-with-red-and-blue-piet-mondrian/cgFHp7W2Otp5jg'}, {'image': 'none', 'page': 'https://artsandculture.google.com/asset/victory-boogie-woogie-gintaras-znamierowski/_QHLe-ce-pUbQw'}, {'image': 'none', 'page': 'https://artsandculture.google.com/asset/the-eternal-father-and-the-virgin-raphael-with-evangelista-di-pian-di-meleto/-QE0x8tWYuSdQw'}, {'image': 'none', 'page': 'https://artsandculture.google.com/asset/composition-no-12-with-blue-mondrian-piet/cwF4U4Na5EpOrw'}]\n"
     ]
    }
   ],
   "source": [
    "from src.scraping.scraping_section import ScrapingSection\n",
    "import time\n",
    "path_driver = 'chromedriver.exe'\n",
    "scraper = ScrapingSection(path_driver)\n",
    "scraper.open(\"WHITE\")\n",
    "scraper.scroll_down(0)\n",
    "#time.sleep(2)\n",
    "scraper.scrape()\n",
    "#print(src)"
   ]
  },
  {
   "cell_type": "code",
   "execution_count": 6,
   "metadata": {},
   "outputs": [
    {
     "data": {
      "text/plain": [
       "[{'image': 'url(\"https://lh3.googleusercontent.com/ci/AC_FhM_TtHnpV4uxifY2CR4N_7aK3dNuIQaNCvCLymW8qlht_f4w6RxNpwLJxcGe94_hKVdNJvfrHMQ=w313-c-h313-rw-v1\")',\n",
       "  'page': 'https://artsandculture.google.com/asset/the-magpie/rQGnadHwK8lSmg'},\n",
       " {'image': 'url(\"https://lh3.googleusercontent.com/ci/AC_FhM8E27-JPnDd0MS2xdUy025M8a6HVoePPU8qxJ4FRcq--XVPtlKhgluQxwg501cHDCMnkdF21C4=w313-c-h313-fcrop64=1,00000d37ffff8ce4-rw-v1\")',\n",
       "  'page': 'https://artsandculture.google.com/asset/symphony-in-white-no-1-the-white-girl/egEsaSX979J8mw'},\n",
       " {'image': 'url(\"https://lh3.googleusercontent.com/ci/AC_FhM9a9ZIa8v51w_ibyeqr53ek7YslNn9gRH35L83X9aB30hIil5aUE98Wgeng24RI5bNdnc7m5VY=w313-c-h313-fcrop64=1,00000b77ffffdd97-rw-v1\")',\n",
       "  'page': 'https://artsandculture.google.com/asset/the-cradle/WAE_4Ek4Dn6EnA'},\n",
       " {'image': 'url(\"https://lh3.googleusercontent.com/ci/AC_FhM_xbsnsclF0ovIA8Llr8Uo8ZzEmsutG2SEed6Fl5FwvMMySsNpwwfj5GgjYPcyBXXBW3GAlw2g=w313-c-h313-fcrop64=1,3d7a0000fe28ffff-rw-v1\")',\n",
       "  'page': 'https://artsandculture.google.com/asset/the-cripples-ls-lowry/3QEUI4K6UzI6Ww'},\n",
       " {'image': 'url(\"https://lh3.googleusercontent.com/ci/AC_FhM9JZeRyGMgjTTh1pzNSIJFvVuhM9T0A-ODxZWD3ukUgji7mOzAbsVrm1KyBRzXlwXwn57Qc2jDF=w313-c-h313-fcrop64=1,00000c39ffffe3fa-rw-v1\")',\n",
       "  'page': 'https://artsandculture.google.com/asset/portrait-of-ann-ls-lowry/FgGeanu3MI-iiA'},\n",
       " {'image': 'url(\"https://lh3.googleusercontent.com/ci/AC_FhM9DIrk3gViJJpt9HEMAgAmxSayynAUp80OTIeHpceTjgR2HWiEA3AVuyOzCvMn93vRZyh-ea9s=w313-c-h313-fcrop64=1,2cb40000d34affff-rw-v1\")',\n",
       "  'page': 'https://artsandculture.google.com/asset/summer-evening-on-skagen-s%C3%B8nderstrand-peder-severin-kr%C3%B8yer/_gEOHIMEsC_EQg'},\n",
       " {'image': 'url(\"https://lh3.googleusercontent.com/ci/AC_FhM84g1AgSNpv_K_rcQNS67Eztr8LilOzxI5uqxH0f26vQmMoiskgax22e-gWqWa98DuXpq6XBA=w313-c-h313-rw-v1\")',\n",
       "  'page': 'https://artsandculture.google.com/asset/ram-s-head-blue-morning-glory-georgia-o-keeffe/XQEbG_-lJd-T2w'},\n",
       " {'image': 'url(\"https://lh3.googleusercontent.com/ci/AC_FhM9oxWAeVeL1W1iXeqwy8Olja859PHIhyw8ngjqr4LpikbJW8dywQmciMKvVjKs_mQM2yIUuAjM=w313-c-h313-rw-v1\")',\n",
       "  'page': 'https://artsandculture.google.com/asset/composition-with-red-yellow-and-blue-piet-mondriaan/2QH2qSqVtHILrg'},\n",
       " {'image': 'url(\"https://lh3.googleusercontent.com/ci/AC_FhM_ZOXAk8w5qp5TKlevrt_nYJdUWYR1ND892je98QTOGGvb4RloxAPsrnwHwyIvmBG6-8ZuPr0g=w313-c-h313-fcrop64=1,21910000de6dffff-rw-v1\")',\n",
       "  'page': 'https://artsandculture.google.com/asset/mother-joaqu%C3%ADn-sorolla-y-bastida/QAGMMtJioH0OrA'},\n",
       " {'image': 'url(\"https://lh3.googleusercontent.com/ci/AC_FhM8jYSa84LAGsqsXdyQzrQC_0yPhEsCnyy3phzHtv7Hzg8VkY2lKyHrCVleBaZUQ289ILLLSnGvK=w313-c-h313-fcrop64=1,202e0000dfd0ffff-rw-v1\")',\n",
       "  'page': 'https://artsandculture.google.com/asset/market-scene-northern-town-ls-lowry/8wH_RxS1pbJvjg'},\n",
       " {'image': 'url(\"https://lh3.googleusercontent.com/ci/AC_FhM8Ey29Q9gdC8uPJ36Menv1pquZhPQMm0AtBvr7j4dTg2irS7tQv9ZE7SRb5Dd2g3hPAq_LMmA=w313-c-h313-rw-v1\")',\n",
       "  'page': 'https://artsandculture.google.com/asset/man-lying-on-a-wall-ls-lowry/_gFc2rrNxaNxGA'},\n",
       " {'image': 'url(\"https://lh3.googleusercontent.com/ci/AC_FhM-FRrdDOefuNwaaBIlK_s-luQgopxh1JGNQZDFEgoqQHEqavPExSS3_IQAWV9q8NTwxaiJdPG8=w313-c-h313-rw-v1\")',\n",
       "  'page': 'https://artsandculture.google.com/asset/composition-10-in-black-and-white-piet-mondriaan/NgEozt-0sWt3eQ'},\n",
       " {'image': 'url(\"https://lh3.googleusercontent.com/ci/AC_FhM84i6-XeGv7F0IzCoDn1t51ijWcCKs5ae3wmmQZXKNrpZWRMS2DaP0w_H1p37hJtkkFyYW1FTdS=w313-c-h313-rw-v1\")',\n",
       "  'page': 'https://artsandculture.google.com/asset/stroyuschiysya-dom-house-under-construction-kasimir-malevich/cAH5v2Pqbdb2GQ'},\n",
       " {'image': 'url(\"https://lh3.googleusercontent.com/ci/AC_FhM8GRimFps51xg6zKwtFXfX81gptBD1XZIHxzu1UbLXHzZ4mfUMz29dswJ6h58AMHiANpZXonuo=w313-c-h313-rw-v1\")',\n",
       "  'page': 'https://artsandculture.google.com/asset/composition-in-colour-a-piet-mondriaan/1gEhhdK5L6rHEg'},\n",
       " {'image': 'url(\"https://lh3.googleusercontent.com/ci/AC_FhM-cJTbZQ_O_stX4WpoSnBywAOPq0GuYjDIUcZ8O8S9pFoNUK5N6pnbx5WeChS8P7ogwOQKtkA=w313-c-h313-rw-v1\")',\n",
       "  'page': 'https://artsandculture.google.com/asset/my-last-door-georgia-o-keeffe/7QEcKjDABvXG5g'},\n",
       " {'image': 'url(\"https://lh3.googleusercontent.com/ci/AC_FhM_aZ5v2841ud2_oy_xgXCbfDDET_jxFk1CqTeux-b2O8Pn93kxrSpJy4fBJuvPJKCYvd39rSQ=w313-c-h313-fcrop64=1,00000755ffffe9fd-rw-v1\")',\n",
       "  'page': 'https://artsandculture.google.com/asset/no-swimming/zAFlWMQ4wZmEqg'},\n",
       " {'image': 'url(\"https://lh3.googleusercontent.com/ci/AC_FhM9FbFdqNhA7CX5RKajwAeU7NuA9PucUmgEIc1mV9INJzJ8SXbq2tbVEIOkpTW5bRTXRfoVaoGU=w313-c-h313-rw-v1\")',\n",
       "  'page': 'https://artsandculture.google.com/asset/selfish-heart-olga-costa/cQEN4GmAKDaZYg'},\n",
       " {'image': 'url(\"https://lh3.googleusercontent.com/ci/AC_FhM8_wHigoAeJxVMZSJsD57FDCaY34iyOaiI-sN7-lvw48zIwqSaVEFvSIzF1__GBEe8_ftTGu5Q=w313-c-h313-rw-v1\")',\n",
       "  'page': 'https://artsandculture.google.com/asset/trade-gifts-for-trading-land-with-white-people-jaune-quick-to-see-smith/XgFkqi0EWp9OPg'},\n",
       " {'image': 'url(\"https://lh3.googleusercontent.com/ci/AC_FhM8mq0V4Z0Ayg3hs1bmfzUuYTDQYw3-wPra_YpKMfvuJX1S8Rg3i_Up3PtADPeZFuJsGSxzHNg=w313-c-h313-fcrop64=1,220c0000ddf2ffff-rw-v1\")',\n",
       "  'page': 'https://artsandculture.google.com/asset/a-holiday-at-mentone-charles-conder/kwH-IKukyhVa1w'},\n",
       " {'image': 'url(\"https://lh3.googleusercontent.com/ci/AC_FhM-FgTNy-MP6eCFvrXOqVmZtnMvZ4f71UcK4HYfPVxMqUyecyq6y794hnBeGejLfL2T6WLTCpQ=w313-c-h313-rw-v1\")',\n",
       "  'page': 'https://artsandculture.google.com/asset/asparagus/DwHM0deUz6zA8Q'},\n",
       " {'image': 'url(\"https://lh3.googleusercontent.com/ci/AC_FhM_y9ipSpqLdRXYRwB6duI19RToBZFAkWCL5L-WrBMzoDykUiFvhhLuahxxJsLrX1eH9wrnRIq8=w313-c-h313-fcrop64=1,5e560000cd51ffff-rw-v1\")',\n",
       "  'page': 'https://artsandculture.google.com/asset/a-stroll-on-the-beach/QAEYZKXo8LlVig'},\n",
       " {'image': 'url(\"https://lh3.googleusercontent.com/ci/AC_FhM_c8heDjFVcJ1PTJupxp5rAAvCY3kWRXpjHj3xjnH2hv3G1OcF6BibEIQZqVq94Vl9G-Hk0v495=w313-c-h313-rw-v1\")',\n",
       "  'page': 'https://artsandculture.google.com/asset/painterly-realism-of-a-football-player-%E2%80%93-color-masses-in-the-4th-dimension-kazimir-malevich-russian-born-ukraine-1878%E2%80%931935/HAFbsVPXhzyLMg'},\n",
       " {'image': 'url(\"https://lh3.googleusercontent.com/ci/AC_FhM8gXJj7sM0OTTjYX65wqwByL1z-GabUP5OSw4NmilgY9QeUdVUngzwXp8H7QWy7X6N84LD8jzHR=w313-c-h313-fcrop64=1,000011ccffffd12e-rw-v1\")',\n",
       "  'page': 'https://artsandculture.google.com/asset/a-moura-dario-villares-barbosa/NgGgKrnhzE_EDw'},\n",
       " {'image': 'url(\"https://lh3.googleusercontent.com/ci/AC_FhM-1eM5j_b9Q8Jw9V6dvaB0puuxP068wsaZfyhuEschoGKBR662nclUVvBEMKMDmG7hr8gQDR2U=w313-c-h313-rw-v1\")',\n",
       "  'page': 'https://artsandculture.google.com/asset/a-view-from-dosseringen-near-the-sortedam-lake-looking-towards-the-suburb-n%C3%B8rrebro-outside-copenhagen-christen-k%C3%B8bke/nAF-iUwGNXFdNA'},\n",
       " {'image': 'url(\"https://lh3.googleusercontent.com/ci/AC_FhM8ATMORCmj98PoNKZYQzQT38rGjzpoYUkwZAWBxWqjH1GpH5EjLyHvblrmdtD7gW8jjMttxYL8e=w313-c-h313-rw-v1\")',\n",
       "  'page': 'https://artsandculture.google.com/asset/the-loing-s-canal/_wHHv1ikAghaiw'},\n",
       " {'image': 'url(\"https://lh3.googleusercontent.com/ci/AC_FhM9ck1iBep54yEPRZGkBXxQHqC9nVSBRnBpqtxa0asSp_eQGRSji3-SsDUPNkVm3OKRSaMd5uig=w313-c-h313-rw-v1\")',\n",
       "  'page': 'https://artsandculture.google.com/asset/gentleman-looking-at-something-ls-lowry/SQGgzxA0A7R-Xg'},\n",
       " {'image': 'url(\"https://lh3.googleusercontent.com/ci/AC_FhM-xC2aBstZnvA7ScoFjJnUXi6nGBGm_YR3v--DfukKY_NEEh2KGPrPJAdLiuk6C4U-oiQ_OHIg=w313-c-h313-rw-v1\")',\n",
       "  'page': 'https://artsandculture.google.com/asset/introducci%C3%B3n-a-la-esperanza/jAGFpjuDCBmAyw'},\n",
       " {'image': 'url(\"https://lh3.googleusercontent.com/ci/AC_FhM-iQhtZGZQaRx7WMjqtbbAs1tvhE2ZPGe7aDfz11E-eTrRx4Funl9VqphIrofy-gHza3aGAnS4w=w313-c-h313-rw-v1\")',\n",
       "  'page': 'https://artsandculture.google.com/asset/space-concept-lucio-fontana/nwE60qWym16wFg'},\n",
       " {'image': 'url(\"https://lh3.googleusercontent.com/ci/AC_FhM-TYTWucIFdOdVKOPzm3iUgAIg2eXSkoSSEuQf2JX53TkN6a2NtbB6fTIok3Hg3gR_zzhm-=w313-c-h313-fcrop64=1,253f0000dabfffff-rw-v1\")',\n",
       "  'page': 'https://artsandculture.google.com/asset/washing-on-the-ice-pekka-halonen/0gFycfnB-HorCA'},\n",
       " {'image': 'url(\"https://lh3.googleusercontent.com/ci/AC_FhM8BNkRZnawxLwQjy6x_nbd9KQ6tmw3O6gUvMLnrJ-hwkqZlQmcsdu7zNjy5nrVaCBTDxJVBnnk=w313-c-h313-rw-v1\")',\n",
       "  'page': 'https://artsandculture.google.com/asset/1935-white-relief-ben-nicholson/vAEn4KAcs2Melw'},\n",
       " {'image': 'url(\"https://lh3.googleusercontent.com/ci/AC_FhM-gS0asH_mh9VovrQa-hy7xzNxDmW5pa0_fYPVTrN1QTzugeGhS7DzTgGjIeofT1JKy7XMBRCA=w313-c-h313-rw-v1\")',\n",
       "  'page': 'https://artsandculture.google.com/asset/spatial-concept-lucio-fontana/0wHUg86VVJDb9g'},\n",
       " {'image': 'url(\"https://lh3.googleusercontent.com/ci/AC_FhM8ZSeok-6zgeAtx12m-gbNxit6RyUnxR5jcBL0Wqcy6W5FDjEF8UjU0HStinkDrPIgyVFxevBvw=w313-c-h313-rw-v1\")',\n",
       "  'page': 'https://artsandculture.google.com/asset/a-wreck-with-fishing-boats-joseph-mallord-william-turner/4gF2YiZVQ4ikcw'},\n",
       " {'image': 'url(\"https://lh3.googleusercontent.com/ci/AC_FhM92xg3GeDQwa9-DWY555DPOynE0EzX3EEZiarB6f9-H4Qg0otN3lawhNQbxTKJL_bVSGx9kuA=w313-c-h313-rw-v1\")',\n",
       "  'page': 'https://artsandculture.google.com/asset/veil-vi-joseph-havel/9wFwHviNL0bRMw'},\n",
       " {'image': 'url(\"https://lh3.googleusercontent.com/ci/AC_FhM_ysOLSULcCanPX38umCS_bpv5WAobWNjfMWD_3hUIxGMmZ5Jx7s7Dk0SO805YGpne0otwyp4KY=w313-c-h313-fcrop64=1,000a0000fff4ffff-rw-v1\")',\n",
       "  'page': 'https://artsandculture.google.com/asset/fishing-trip-they-ll-be-coming-back-next-week/ZQGS3jWsjWsXqA'},\n",
       " {'image': 'url(\"https://lh3.googleusercontent.com/ci/AC_FhM_eYY2IoKgSKlqRtk8KckKd7KI6Mp6IwtIeQxQi8ZOdatojy3iy0wKbJtm22ZXosAToRsi_1SM=w313-c-h313-fcrop64=1,36f30000c90bffff-rw-v1\")',\n",
       "  'page': 'https://artsandculture.google.com/asset/winter-scene-on-a-frozen-canal/mQG53metwNY8fQ'},\n",
       " {'image': 'url(\"https://lh3.googleusercontent.com/ci/AC_FhM9INLcczQDMjOYGgJcCMjl0zO9za76aYi8BRFAJWmzuYSYT0qMN-Zp6HrJqX1oCQGCKrniN=w313-c-h313-fcrop64=1,00000f8bffffd15b-rw-v1\")',\n",
       "  'page': 'https://artsandculture.google.com/asset/rosina-ferrara-head-of-a-capri-girl-john-singer-sargent/5gFt9fD4q9RVFg'},\n",
       " {'image': 'url(\"https://lh3.googleusercontent.com/ci/AC_FhM8Vx20DlqDf-Sjj4W1mis7ljhmEcnJvLSlJiZkVzFj20HRna8mqU8Opn5v3nAqyHV3dS-cPjH0L=w313-c-h313-rw-v1\")',\n",
       "  'page': 'https://artsandculture.google.com/asset/winter-harmony/gQEER_1tjd7E3A'},\n",
       " {'image': 'url(\"https://lh3.googleusercontent.com/ci/AC_FhM-D3cOzYZxdfXpwNpV9Hb9IqC3DvsN2v_7hNntklCRNvuqkweaybUYzprOFGg-d5dAAWJK4=w313-c-h313-rw-v1\")',\n",
       "  'page': 'https://artsandculture.google.com/asset/composition-en-rouge-jaune-et-bleu-composition-in-red-yellow-and-blue-piet-mondrian/KAEbs40iZQ_taA'},\n",
       " {'image': 'url(\"https://lh3.googleusercontent.com/ci/AC_FhM913eSQd5Ywh4in7cJqCOLuaMo3x6zd0a_2aeTjxDZIaQHCUxUAEXcHpeYOb5XiuWzb83ZDgHg=w313-c-h313-rw-v1\")',\n",
       "  'page': 'https://artsandculture.google.com/asset/saint-werner-master-of-messkirch/XAEKKA1Cd1s6Vg'},\n",
       " {'image': 'url(\"https://lh3.googleusercontent.com/ci/AC_FhM-SBSHv2AHhwLEPxmdprF8b-CuQ4W0UUgGtaqdeXPQhc45uXX3rmjfCsYwgamXChI-NNZq1iA=w313-c-h313-fcrop64=1,00001285ffffc86f-rw-v1\")',\n",
       "  'page': 'https://artsandculture.google.com/asset/the-machanism-of-meaning-no-2-splitting-of-meaning-shusaku-arakawa-and-madeline-gins/xgEUgQw0CnJ4eA'},\n",
       " {'image': 'url(\"https://lh3.googleusercontent.com/ci/AC_FhM8m3k--of56HZRJKezmEfQ1knhXhZu8p78Li_W2riCv1qAfXvl46v8z501rrnNbZJlv6sov=w313-c-h313-fcrop64=1,20ed0000df11ffff-rw-v1\")',\n",
       "  'page': 'https://artsandculture.google.com/asset/in-the-garden-of-haminalahti-ferdinand-von-wright/BQFmh9LTZQl8HA'},\n",
       " {'image': 'url(\"https://lh3.googleusercontent.com/ci/AC_FhM8IZQIJsDMkxgNjhJbCtgYJ79VN4g4-GgTwf_53ivF7fEfkr4bOP04AGu5GBzGdBALNyRk-dw=w313-c-h313-rw-v1\")',\n",
       "  'page': 'https://artsandculture.google.com/asset/composition-in-colours-composition-no-i-with-red-and-blue-piet-mondrian/cgFHp7W2Otp5jg'},\n",
       " {'image': 'url(\"https://lh3.googleusercontent.com/ci/AC_FhM8qu0Dp23KDqt-eoxZcOoaVi3y3MhkzWLkkmBPngP7fri9Q3DkgnfbL5HOjRR9c_S0uFpjh1is=w313-c-h313-rw-v1\")',\n",
       "  'page': 'https://artsandculture.google.com/asset/victory-boogie-woogie-gintaras-znamierowski/_QHLe-ce-pUbQw'},\n",
       " {'image': 'url(\"https://lh3.googleusercontent.com/ci/AC_FhM-IzJ50Sj06WTNVilBMsRndpKEo19a_I4sl19_Bx3N3SUxCe8dSZubaSW3N4okhb_0LKoLbu7xv=w313-c-h313-fcrop64=1,000019dbffffd9da-rw-v1\")',\n",
       "  'page': 'https://artsandculture.google.com/asset/the-eternal-father-and-the-virgin-raphael-with-evangelista-di-pian-di-meleto/-QE0x8tWYuSdQw'},\n",
       " {'image': 'url(\"https://lh3.googleusercontent.com/ci/AC_FhM_DrOnxU9VTi8kHMg8qAIVnbCFkIPwVejcITKJqpdcUKyaBdkMOCh4DZ2zQ0VE0ZfG5LK4Bxqc=w313-c-h313-rw-v1\")',\n",
       "  'page': 'https://artsandculture.google.com/asset/composition-no-12-with-blue-mondrian-piet/cwF4U4Na5EpOrw'},\n",
       " {'image': 'url(\"https://lh3.googleusercontent.com/ci/AC_FhM_iAD1zo1ONMGnCKYuIuAhSpF1RtbPnrZ2HOtSfS5_5imDq6IrTaKw_rEKGpthhKipF7gPr2A=w313-c-h313-fcrop64=1,00001614ffffbdc1-rw-v1\")',\n",
       "  'page': 'https://artsandculture.google.com/asset/the-goldfinch-fabritius-carel/-wEZmpDB0HVABQ'},\n",
       " {'image': 'url(\"https://lh3.googleusercontent.com/ci/AC_FhM82oSoQKjCdEIZtGM4tJsJ98I56L0cOqEgohEEc0FjmzBtxBx3pxKLz4AkxTG5XXBbtgMxE6g=w313-c-h313-rw-v1\")',\n",
       "  'page': 'https://artsandculture.google.com/asset/landscape-in-cumberland-ls-lowry/IgHydQcgSsmg_w'},\n",
       " {'image': 'url(\"https://lh3.googleusercontent.com/ci/AC_FhM_n10_633aaIXYv_reau1LbM-ki0aYkM86gUsp1ssCYd0DcdB8aL8Lz7J2U3bQDe1FbmZCI7EA=w313-c-h313-fcrop64=1,00000016ffffffbc-rw-v1\")',\n",
       "  'page': 'https://artsandculture.google.com/asset/still-life-with-palm-tree/fAHzGbG2eURupw'},\n",
       " {'image': 'url(\"https://lh3.googleusercontent.com/ci/AC_FhM_N_ZuNqMOPW6aunaDGSPsI1SpQZnM7MPhel2JKnTDRvVAJfgkFfaYavJ4gj8re1E4V0uuERA=w313-c-h313-fcrop64=1,2ac40000d53affff-rw-v1\")',\n",
       "  'page': 'https://artsandculture.google.com/asset/so-the-treasure-was-divided/4QEtufit296Urg'},\n",
       " {'image': 'url(\"https://lh3.googleusercontent.com/ci/AC_FhM8wYqEYEODueU1X9C2Rg39-wDir7h4ZGnVIbVDUQwEF19GEhm4c2Rx0EdgDDMBkd7FHzyKuDg=w313-c-h313-fcrop64=1,00000262fffffcc7-rw-v1\")',\n",
       "  'page': 'https://artsandculture.google.com/asset/seated-male-nude-self-portrait-egon-schiele/2QEjbgnQo_ZsVQ'},\n",
       " {'image': 'url(\"https://lh3.googleusercontent.com/ci/AC_FhM-F36QLNapBi_0vF9_-WEtRMbgfVMGmvbACtImn75BgWr5eB3eWZ-K-hpDwpksrgEDj6diB=w313-c-h313-rw-v1\")',\n",
       "  'page': 'https://artsandculture.google.com/asset/tarde-em-toulon-giovanni-battista-castagneto/agHTcT4RwXlghg'},\n",
       " {'image': 'url(\"https://lh3.googleusercontent.com/ci/AC_FhM-53b8JM7gJLmMoi9Bc26tOv2dqj5FgXoGrYpwELj7GZqdUCOF2QvDUj68V7xcEO3HwhW_pXA=w313-c-h313-fcrop64=1,00002efafffff54e-rw-v1\")',\n",
       "  'page': 'https://artsandculture.google.com/asset/visit-day-at-the-hospital/FwE8JltD-qBY3g'},\n",
       " {'image': 'url(\"https://lh3.googleusercontent.com/ci/AC_FhM_uegiRax5Z0zsppqUJB5sdGHzB5rOG5lCpf9dmICMgD0ZeoXIEChfdMGWeCAShYeg32tMFDGaY=w313-c-h313-fcrop64=1,61760000fcf9ffff-rw-v1\")',\n",
       "  'page': 'https://artsandculture.google.com/asset/boston-harbor-sunset-fitz-henry-lane/_QHkhfnDU4FHBQ'},\n",
       " {'image': 'url(\"https://lh3.googleusercontent.com/ci/AC_FhM-6WmRkapTTP9nWAqVH3x7ormSu9cGNrdROdXXSizRYa7Ra3eCJD-92e6WpCEQ3FJ42BzgxT-g=w313-c-h313-fcrop64=1,1e350000e1c9ffff-rw-v1\")',\n",
       "  'page': 'https://artsandculture.google.com/asset/goddess-of-love-goddess-of-liberty-hung-liu/gwHM1u5h0chlkA'},\n",
       " {'image': 'url(\"https://lh3.googleusercontent.com/ci/AC_FhM-A-QonaMUClX8nThi98nBTggUTJt4IXvmW0Ence9Zos1jiVp-uaQqMzW-FGFpd_CCmy9Sv6Cg=w313-c-h313-rw-v1\")',\n",
       "  'page': 'https://artsandculture.google.com/asset/a-scene-on-the-ice/0AEcjdvrkjPfdg'},\n",
       " {'image': 'url(\"https://lh3.googleusercontent.com/ci/AC_FhM-wb_4-1Tk2pqpa3UA7zRDCzTl7587eTSlHRLIP3bU__Z6H605RKNcPMFYxiRMlJG_0CVWh9WWg=w313-c-h313-rw-v1\")',\n",
       "  'page': 'https://artsandculture.google.com/asset/suprematism/7gFr9friECE5NA'},\n",
       " {'image': 'url(\"https://lh3.googleusercontent.com/ci/AC_FhM8rDAHpOn8tMPn9UqlDUOs1Pfwg7K90q9zXq9x7l5qJXYjXFbdY1V6UbEjoQLnRRwCv8LBwDg=w313-c-h313-rw-v1\")',\n",
       "  'page': 'https://artsandculture.google.com/asset/pilgrims-going-to-mecca/kQH9MkXpGEydoA'},\n",
       " {'image': 'url(\"https://lh3.googleusercontent.com/ci/AC_FhM-f4Qyc6xui9Q2ORSCgxQZsuI6_J2pcWprTvevsI6PrdXGy7wqw29Qm9mOnGfFeRjWlljZVLA=w313-c-h313-rw-v1\")',\n",
       "  'page': 'https://artsandculture.google.com/asset/snow-boulevard-de-clichy-paris/kwFDefeU5m-VXA'},\n",
       " {'image': 'url(\"https://lh3.googleusercontent.com/ci/AC_FhM98WFAn60YkkHr28mZcqEK1WXcaS9m3LmLPy9zwouE2io3r39P_ILMO9bpIYANatDXJZ7ztLyA=w313-c-h313-fcrop64=1,00000606ffffedea-rw-v1\")',\n",
       "  'page': 'https://artsandculture.google.com/asset/kabaddi-sukhpreet-singh/VgGhs-2QW5YTwA'},\n",
       " {'image': 'url(\"https://lh3.googleusercontent.com/ci/AC_FhM-azDKqf5hf5l8JZxYaAToxwpBQCLWQ4_I-0DIANQnUco0oBdyelr41a-306mc9GtwVAwBzkjs=w313-c-h313-fcrop64=1,00001c28fffff491-rw-v1\")',\n",
       "  'page': 'https://artsandculture.google.com/asset/bank-of-a-river-in-bloom-ladislav-medny%C3%A1nszky/NwG2xqtDVfZUEg'},\n",
       " {'image': 'url(\"https://lh3.googleusercontent.com/ci/AC_FhM-m5P_iOoDnL47KfE-gFAO85R71HdkMlxsP_DC0VXt0TspVv3WJyj7MM1gjk3a0hmAmjGkBrsc=w313-c-h313-fcrop64=1,00001560ffffbfde-rw-v1\")',\n",
       "  'page': 'https://artsandculture.google.com/asset/woman-with-a-laundry-basket-duane-hanson/bAH0EAvC1rMYsA'},\n",
       " {'image': 'url(\"https://lh3.googleusercontent.com/ci/AC_FhM9cojJVGZwRcy4eWQcyB8B-JSM0K4mkGnY4F-2IhnWTU1QHd6DORF7MHLUMX_nQE9m0lY79f9kH=w313-c-h313-fcrop64=1,1a530000e5abffff-rw-v1\")',\n",
       "  'page': 'https://artsandculture.google.com/asset/estado-mayor-de-bufones-jos%C3%A9-clemente-orozco/nAH9PH51kUTV7g'},\n",
       " {'image': 'url(\"https://lh3.googleusercontent.com/ci/AC_FhM82islfLzsAOAnrnPiPB6__Q5bTggcn6F_GGd7NA-Roiz6pT6pzOongV_Bla_zuPtWB6Gm4hQ=w313-c-h313-rw-v1\")',\n",
       "  'page': 'https://artsandculture.google.com/asset/self-portrait-as-a-rice-farmer-not-vital/xAH3dNdhIdt79g'},\n",
       " {'image': 'url(\"https://lh3.googleusercontent.com/ci/AC_FhM89YZh7NuqPEqKAEGnXTEnPSVOsSreKQhN5USupbk9l_G1JNtDE2uVG3JrSdZRgsnIEgXQKlAw=w313-c-h313-fcrop64=1,00002773ffffe4db-rw-v1\")',\n",
       "  'page': 'https://artsandculture.google.com/asset/a-fight-ls-lowry/NQGzgpcdHvOK4g'},\n",
       " {'image': 'url(\"https://lh3.googleusercontent.com/ci/AC_FhM9l2wBpCclMT3YGy7-s1iap3mKdzhyjD_HlsvTV3KDkE3mQ0OOu5OLIz1azxppJ1CpL-XmQjQ=w313-c-h313-rw-v1\")',\n",
       "  'page': 'https://artsandculture.google.com/asset/cochlea-brick-tuft-hamish-pearch/AwFkd7YXPp3TEQ'},\n",
       " {'image': 'url(\"https://lh3.googleusercontent.com/ci/AC_FhM9X83gcXrojKz4a7u7uN1cv4BOMBfv61t4ThVxoiI9nM5MNT1DM828IlAxvS2qnNxwkZRZd_AOF=w313-c-h313-rw-v1\")',\n",
       "  'page': 'https://artsandculture.google.com/asset/series-i-no-12-georgia-o-keeffe/QwEh7PQVZZoveA'},\n",
       " {'image': 'url(\"https://lh3.googleusercontent.com/ci/AC_FhM-1LUdipPJm_QCJ3zzpT6OfMRCGoJAVnspkdXKUI3SbbILN4gyUSBDBLqVolajyJfrK81U8=w313-c-h313-rw-v1\")',\n",
       "  'page': 'https://artsandculture.google.com/asset/summer-sunlight-isles-of-shoals/wgG3I38i7-gBDw'},\n",
       " {'image': 'url(\"https://lh3.googleusercontent.com/ci/AC_FhM-JiBtxIXtHXXpNlI5fAzQyF1xNyHq1MZQhWSJt8AAkpoloCEvCNRB76m0pQatSWJnl59wqRTDT=w313-c-h313-rw-v1\")',\n",
       "  'page': 'https://artsandculture.google.com/asset/trabalhadores-de-cal-djanira/ugHL1E5ymtOOyg'},\n",
       " {'image': 'url(\"https://lh3.googleusercontent.com/ci/AC_FhM9ybduoJXz0BSDQK3HeIj4z8r1jLDp53uOF3GKSHXivpPF18ob-eJ4LtAQzbQFPB3b2lcZneis=w313-c-h313-rw-v1\")',\n",
       "  'page': 'https://artsandculture.google.com/asset/rhyl-sands/cgFpZBLmHIpa6Q'},\n",
       " {'image': 'url(\"https://lh3.googleusercontent.com/ci/AC_FhM_BH6DOMScQoE33fHeiwwdkHSy8k1w4O3w_HE0hHWK8GcyENYRekam54QQADvA-WuSXnDg6Jds=w313-c-h313-rw-v1\")',\n",
       "  'page': 'https://artsandculture.google.com/asset/a-summer-s-day-on-the-seine-mart%C3%ADn-rico-ortega/eQFtLLM9zDztEw'},\n",
       " {'image': 'url(\"https://lh3.googleusercontent.com/ci/AC_FhM8qEcm0DxG9ijEhAap5ZxsdDiUGcnnfdBXSETvXgPqtuMQv1gQ-f2g_xjET9-oi_ifti2aNxPg=w313-c-h313-rw-v1\")',\n",
       "  'page': 'https://artsandculture.google.com/asset/relaxing-yuan-xikun/AwHonK7gGvipDA'},\n",
       " {'image': 'url(\"https://lh3.googleusercontent.com/ci/AC_FhM-HW0d1ROo_qNMDGIVeOovRQKp6UtDiHDGaUsC_2WpRU_t7R5xtrhGjbTOmhBJ7FeOxkjroJw=w313-c-h313-fcrop64=1,000000adfffffdf6-rw-v1\")',\n",
       "  'page': 'https://artsandculture.google.com/asset/catch-the/ZAGA5Ga57Yl8wQ'},\n",
       " {'image': 'url(\"https://lh3.googleusercontent.com/ci/AC_FhM8qaebKC06jKL416w7QuBxZOfSsJjONzp32QjLQq8iA4qdcWTxm8PvcsOk1k_wS95lScvgWMorE=w313-c-h313-rw-v1\")',\n",
       "  'page': 'https://artsandculture.google.com/asset/frosty-sunrise-elioth-gruner/GgE8CbhnqhxFVg'},\n",
       " {'image': 'url(\"https://lh3.googleusercontent.com/ci/AC_FhM9hI_HILi0TeqUgq2IJkFKyv-1ByBgFpxmUAY1um8jjI7F-OsqwNYGsHRovcdxkuVRXhcr-1w=w313-c-h313-rw-v1\")',\n",
       "  'page': 'https://artsandculture.google.com/asset/la-jetee-de-trouville-louis-euge%CC%81ne-boudin/5QHzCU4h1ZvbIw'},\n",
       " {'image': 'url(\"https://lh3.googleusercontent.com/ci/AC_FhM9nCrCoR1Z53iC1G3KAfsgROoV6UpASLwLepYfEn8FgoS2Qq-5gLxS6zo3H70tXiJ0NHIPHp5g=w313-c-h313-rw-v1\")',\n",
       "  'page': 'https://artsandculture.google.com/asset/oil-lamp-new-england-glass-company/owH8TGVUMGeogw'}]"
      ]
     },
     "execution_count": 6,
     "metadata": {},
     "output_type": "execute_result"
    }
   ],
   "source": [
    "\n",
    "script_test:str = \"\"\"\n",
    "    const script = () =>{\n",
    "        const containers = [...document.querySelectorAll('.DuHQbc')];\n",
    "        const img_elements= containers.map(contain => contain.firstElementChild);\n",
    "        return img_elements.map(img =>({\n",
    "            page:img.href,\n",
    "            image: window.getComputedStyle(img, false).backgroundImage\n",
    "        }))  \n",
    "    };\n",
    "    return script()\n",
    "    \"\"\"\n",
    "\n",
    "scraper.driver.execute_script(script_test)"
   ]
  },
  {
   "cell_type": "code",
   "execution_count": 10,
   "metadata": {},
   "outputs": [
    {
     "data": {
      "text/plain": [
       "\"\\n    cosnt script = () =>{\\n        const containers = [...document.querySelectorAll('.DuHQbc')];\\n        const img_elements= containers.map(contain => contain.firstElementChild);\\n        return img_elements.map(img =>({\\n            page:img.href,\\n            image: window.getComputedStyle(img, false).backgroundImage\\n        }))  \\n    };\\n    return script()\\n    \""
      ]
     },
     "execution_count": 10,
     "metadata": {},
     "output_type": "execute_result"
    }
   ],
   "source": [
    "from src.scraping.scripts import scripts\n",
    "scripts.script_test"
   ]
  },
  {
   "cell_type": "code",
   "execution_count": 3,
   "metadata": {},
   "outputs": [
    {
     "name": "stderr",
     "output_type": "stream",
     "text": [
      "C:\\Users\\user\\AppData\\Local\\Temp\\ipykernel_6948\\4033232118.py:2: DeprecationWarning: executable_path has been deprecated, please pass in a Service object\n",
      "  driver = webdriver.Chrome(executable_path = path_driver)\n"
     ]
    }
   ],
   "source": [
    "from selenium import webdriver\n",
    "driver = webdriver.Chrome(executable_path = path_driver)"
   ]
  }
 ],
 "metadata": {
  "kernelspec": {
   "display_name": "google-arts-0o2XoGZ3",
   "language": "python",
   "name": "python3"
  },
  "language_info": {
   "codemirror_mode": {
    "name": "ipython",
    "version": 3
   },
   "file_extension": ".py",
   "mimetype": "text/x-python",
   "name": "python",
   "nbconvert_exporter": "python",
   "pygments_lexer": "ipython3",
   "version": "3.9.7"
  },
  "orig_nbformat": 4,
  "vscode": {
   "interpreter": {
    "hash": "5432f816382aa89dea387102978db645ec43c8e4acd01967e092b22b9e92d380"
   }
  }
 },
 "nbformat": 4,
 "nbformat_minor": 2
}
