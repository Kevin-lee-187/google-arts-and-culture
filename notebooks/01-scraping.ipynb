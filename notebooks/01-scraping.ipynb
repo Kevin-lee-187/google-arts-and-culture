{
 "cells": [
  {
   "cell_type": "code",
   "execution_count": 1,
   "metadata": {},
   "outputs": [],
   "source": [
    "%load_ext autoreload\n",
    "\n",
    "%autoreload 2"
   ]
  },
  {
   "cell_type": "code",
   "execution_count": 9,
   "metadata": {},
   "outputs": [
    {
     "name": "stdout",
     "output_type": "stream",
     "text": [
      "Requirement already satisfied: wget in c:\\users\\user\\.virtualenvs\\google-arts-0o2xogz3\\lib\\site-packages (3.2)\n"
     ]
    },
    {
     "name": "stderr",
     "output_type": "stream",
     "text": [
      "WARNING: You are using pip version 20.2.4; however, version 22.3.1 is available.\n",
      "You should consider upgrading via the 'C:\\Users\\user\\.virtualenvs\\google-arts-0o2XoGZ3\\Scripts\\python.exe -m pip install --upgrade pip' command.\n"
     ]
    },
    {
     "name": "stdout",
     "output_type": "stream",
     "text": [
      "\n",
      "Saved under chromedriver_win32.zip\n"
     ]
    }
   ],
   "source": [
    "!pip install wget\n",
    "!python -m wget https://chromedriver.storage.googleapis.com/108.0.5359.71/chromedriver_win32.zip"
   ]
  },
  {
   "cell_type": "code",
   "execution_count": 7,
   "metadata": {},
   "outputs": [],
   "source": [
    "from src.scraping.section import Section\n",
    "\n",
    "path_driver = 'chromedriver.exe'\n",
    "#section = Section()\n",
    "#print(src)"
   ]
  },
  {
   "cell_type": "code",
   "execution_count": 10,
   "metadata": {},
   "outputs": [
    {
     "name": "stderr",
     "output_type": "stream",
     "text": [
      "C:\\Users\\user\\AppData\\Local\\Temp\\ipykernel_5004\\4033232118.py:2: DeprecationWarning: executable_path has been deprecated, please pass in a Service object\n",
      "  driver = webdriver.Chrome(executable_path = path_driver)\n"
     ]
    }
   ],
   "source": [
    "from selenium import webdriver\n",
    "driver = webdriver.Chrome(executable_path = path_driver)"
   ]
  }
 ],
 "metadata": {
  "kernelspec": {
   "display_name": "google-arts-0o2XoGZ3",
   "language": "python",
   "name": "python3"
  },
  "language_info": {
   "codemirror_mode": {
    "name": "ipython",
    "version": 3
   },
   "file_extension": ".py",
   "mimetype": "text/x-python",
   "name": "python",
   "nbconvert_exporter": "python",
   "pygments_lexer": "ipython3",
   "version": "3.9.7"
  },
  "orig_nbformat": 4,
  "vscode": {
   "interpreter": {
    "hash": "5432f816382aa89dea387102978db645ec43c8e4acd01967e092b22b9e92d380"
   }
  }
 },
 "nbformat": 4,
 "nbformat_minor": 2
}
