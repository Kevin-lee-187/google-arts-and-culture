{
 "cells": [
  {
   "cell_type": "code",
   "execution_count": null,
   "metadata": {},
   "outputs": [],
   "source": []
  }
 ],
 "metadata": {
  "kernelspec": {
   "display_name": "google-arts-B4zjrq5B",
   "language": "python",
   "name": "python3"
  },
  "language_info": {
   "name": "python",
   "version": "3.9.16 (main, Dec  7 2022, 01:12:08) \n[GCC 11.3.0]"
  },
  "orig_nbformat": 4,
  "vscode": {
   "interpreter": {
    "hash": "1c81fc80024810f16025402e02c6d801feeae6bca10fef7a7f6122b54a7b3b46"
   }
  }
 },
 "nbformat": 4,
 "nbformat_minor": 2
}
