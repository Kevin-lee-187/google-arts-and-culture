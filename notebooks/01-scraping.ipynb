{
 "cells": [
  {
   "attachments": {},
   "cell_type": "markdown",
   "metadata": {},
   "source": [
    "# Webscraping\n",
    "In this notebook, it webscraping google-art-and-culture page, using selenium. \n",
    "\n",
    "Here is scrape:\n",
    "1) picture files\n",
    "2) picture color\n",
    "3) picture page\n",
    "\n",
    "Example: \n",
    "\n",
    "![picture](../references/picture.jpg)\n",
    "\n",
    "- color: WHITE\n",
    "\n",
    "- page: https://lh3.googleusercontent.com/ci/AC_FhM_TtHnpV4uxifY2CR4N_7aK3dNuIQaNCvCLymW8qlht_f4w6RxNpwLJxcGe94_hKVdNJvfrHMQ=w218-c-h218-rw-v1\n",
    "\n",
    "- picture_url: https://artsandculture.google.com/asset/the-magpie/rQGnadHwK8lSmg\n",
    "\n",
    "!NOTE: This project is only for educational purpose"
   ]
  },
  {
   "attachments": {},
   "cell_type": "markdown",
   "metadata": {},
   "source": [
    "# Scraping\n",
    "\n",
    "In this notebook the images from the [Google Art and Culture](https://artsandculture.google.com/) page will be scraped. These images are categorized by 11 different colors, which will be the target variable for the rest of the project.\n",
    "\n",
    "Multithreading will be used to make scraping faster :)\n",
    "\n",
    "Scraping consists of 2 parts:\n",
    "\n",
    "1) Extract all the urls of the images and the color of each image.\n",
    "2) Download the images in the file explorer."
   ]
  },
  {
   "attachments": {},
   "cell_type": "markdown",
   "metadata": {},
   "source": [
    "# Notebook config"
   ]
  },
  {
   "cell_type": "code",
   "execution_count": 80,
   "metadata": {},
   "outputs": [
    {
     "name": "stdout",
     "output_type": "stream",
     "text": [
      "The autoreload extension is already loaded. To reload it, use:\n",
      "  %reload_ext autoreload\n"
     ]
    }
   ],
   "source": [
    "%load_ext autoreload\n",
    "\n",
    "%autoreload 3\n",
    "\n",
    "%reload_ext autoreload"
   ]
  },
  {
   "attachments": {},
   "cell_type": "markdown",
   "metadata": {},
   "source": [
    "# Download webdriver\n",
    "For manual installation check `https://chromedriver.chromium.org/downloads`"
   ]
  },
  {
   "cell_type": "code",
   "execution_count": 81,
   "metadata": {},
   "outputs": [
    {
     "name": "stdout",
     "output_type": "stream",
     "text": [
      "--2023-01-08 22:03:59--  https://chromedriver.storage.googleapis.com/108.0.5359.71/chromedriver_win32.zip\n",
      "Resolving chromedriver.storage.googleapis.com (chromedriver.storage.googleapis.com)... 142.250.78.16, 2800:3f0:4005:407::2010\n",
      "Connecting to chromedriver.storage.googleapis.com (chromedriver.storage.googleapis.com)|142.250.78.16|:443... connected.\n",
      "HTTP request sent, awaiting response... 200 OK\n",
      "Length: 6904173 (6,6M) [application/zip]\n",
      "Saving to: ‘chromedriver.zip’\n",
      "\n",
      "chromedriver.zip    100%[===================>]   6,58M  10,9MB/s    in 0,6s    \n",
      "\n",
      "2023-01-08 22:04:00 (10,9 MB/s) - ‘chromedriver.zip’ saved [6904173/6904173]\n",
      "\n",
      "Archive:  chromedriver.zip\n",
      "  inflating: chromedriver.exe        \n"
     ]
    }
   ],
   "source": [
    "!wget https://chromedriver.storage.googleapis.com/108.0.5359.71/chromedriver_win32.zip -O chromedriver.zip && unzip chromedriver.zip"
   ]
  },
  {
   "attachments": {},
   "cell_type": "markdown",
   "metadata": {},
   "source": [
    "# Packages"
   ]
  },
  {
   "cell_type": "code",
   "execution_count": 5,
   "metadata": {},
   "outputs": [],
   "source": [
    "import pyprojroot\n",
    "from pathlib  import Path\n",
    "import time\n",
    "from concurrent.futures import ProcessPoolExecutor\n",
    "import pandas as pd\n",
    "#Local Packages\n",
    "from src.scraping.scraping_pictures import ScrapingPictures\n",
    "from src.scraping.get_img import getImage\n"
   ]
  },
  {
   "attachments": {},
   "cell_type": "markdown",
   "metadata": {},
   "source": [
    "# Paths"
   ]
  },
  {
   "cell_type": "code",
   "execution_count": 78,
   "metadata": {},
   "outputs": [],
   "source": [
    "root_path =  pyprojroot.here()\n",
    "path_driver = (root_path / \"notebooks\"/'chromedriver.exe').relative_to('/')\n",
    "data_raw_folder = (root_path / \"data\"/'raw')\n",
    "data_interim_folder = (root_path / \"data\"/'interim')\n",
    "data_processed_folder = (root_path / \"data\"/'processed')"
   ]
  },
  {
   "attachments": {},
   "cell_type": "markdown",
   "metadata": {},
   "source": [
    "# Scraping"
   ]
  },
  {
   "cell_type": "code",
   "execution_count": 23,
   "metadata": {},
   "outputs": [],
   "source": [
    "page_sections = [\"WHITE\",\"PINK\",\"YELLOW\",\"PURPLE\",\"BLUE\",\"TEAL\",\"GREEN\",\"ORANGE\",\"RED\",\"BROWN\",\"BLACK\"] #Color images to be scraped\n",
    "scroll_down_times = 120 #Num of scroll for charge more images"
   ]
  },
  {
   "cell_type": "code",
   "execution_count": 24,
   "metadata": {},
   "outputs": [],
   "source": [
    "def scrapePictures(color) -> pd.DataFrame:\n",
    "    \"\"\"\n",
    "    Scrapes the pictures of the given color from the website.\n",
    "    \"\"\"\n",
    "    scraper = ScrapingPictures(path_driver,color)\n",
    "    scraper.open()\n",
    "    scraper.scroll_down(scroll_down_times)\n",
    "    time.sleep(8)\n",
    "    df = scraper.scrape()\n",
    "    return df"
   ]
  },
  {
   "cell_type": "code",
   "execution_count": 19,
   "metadata": {},
   "outputs": [],
   "source": [
    "def parallelScrapePictures() -> pd.DataFrame:\n",
    "    \"\"\"\n",
    "    Scrape all the pictures from the website using multiprocessing\n",
    "    \"\"\"\n",
    "    with ProcessPoolExecutor() as executor:\n",
    "        scrape_df_list = executor.map(scrapePictures, page_sections)\n",
    "        scrape_df = pd.concat(list(scrape_df_list), ignore_index=True)\n",
    "        return scrape_df"
   ]
  },
  {
   "cell_type": "code",
   "execution_count": 26,
   "metadata": {},
   "outputs": [
    {
     "name": "stdout",
     "output_type": "stream",
     "text": [
      "Open page section YELLOW\n",
      "Open page section BLUE\n",
      "Open page section PINK\n",
      "Open page section TEAL\n",
      "Open page section BLACK\n",
      "Open page section GREEN\n",
      "Open page section RED\n",
      "Open page section BROWN\n",
      "Open page section ORANGE\n",
      "Open page section PURPLE\n",
      "Open page section WHITE\n",
      "Finish scrolling down\n",
      "Finish scrolling down\n",
      "Finish scrolling down\n",
      "Finish scrolling down\n",
      "Finish scrolling down\n",
      "Finish scrolling down\n",
      "Finish scrolling down\n",
      "Finish scrolling down\n",
      "Finish scrolling down\n",
      "Finish scrolling downFinish scrolling down\n",
      "\n",
      "Finished in 373.1641500099995 seconds\n"
     ]
    }
   ],
   "source": [
    "t1 = time.perf_counter()\n",
    "df = parallelScrapePictures() \n",
    "t2 = time.perf_counter()\n",
    "print(f'Finished in {t2-t1} seconds')"
   ]
  },
  {
   "cell_type": "code",
   "execution_count": 27,
   "metadata": {},
   "outputs": [
    {
     "data": {
      "text/plain": [
       "16378"
      ]
     },
     "execution_count": 27,
     "metadata": {},
     "output_type": "execute_result"
    }
   ],
   "source": [
    "len(df)"
   ]
  },
  {
   "cell_type": "code",
   "execution_count": 30,
   "metadata": {},
   "outputs": [
    {
     "data": {
      "text/html": [
       "<div>\n",
       "<style scoped>\n",
       "    .dataframe tbody tr th:only-of-type {\n",
       "        vertical-align: middle;\n",
       "    }\n",
       "\n",
       "    .dataframe tbody tr th {\n",
       "        vertical-align: top;\n",
       "    }\n",
       "\n",
       "    .dataframe thead th {\n",
       "        text-align: right;\n",
       "    }\n",
       "</style>\n",
       "<table border=\"1\" class=\"dataframe\">\n",
       "  <thead>\n",
       "    <tr style=\"text-align: right;\">\n",
       "      <th></th>\n",
       "      <th>image</th>\n",
       "      <th>page</th>\n",
       "      <th>color</th>\n",
       "    </tr>\n",
       "  </thead>\n",
       "  <tbody>\n",
       "    <tr>\n",
       "      <th>9526</th>\n",
       "      <td>url(\"https://lh3.googleusercontent.com/ci/AC_F...</td>\n",
       "      <td>https://artsandculture.google.com/asset/escrav...</td>\n",
       "      <td>BROWN</td>\n",
       "    </tr>\n",
       "    <tr>\n",
       "      <th>6055</th>\n",
       "      <td>url(\"https://lh3.googleusercontent.com/ci/AC_F...</td>\n",
       "      <td>https://artsandculture.google.com/asset/landsc...</td>\n",
       "      <td>GREEN</td>\n",
       "    </tr>\n",
       "    <tr>\n",
       "      <th>6703</th>\n",
       "      <td>url(\"https://lh3.googleusercontent.com/ci/AC_F...</td>\n",
       "      <td>https://artsandculture.google.com/asset/fenest...</td>\n",
       "      <td>GREEN</td>\n",
       "    </tr>\n",
       "    <tr>\n",
       "      <th>10053</th>\n",
       "      <td>url(\"https://lh3.googleusercontent.com/ci/AC_F...</td>\n",
       "      <td>https://artsandculture.google.com/asset/pierro...</td>\n",
       "      <td>BROWN</td>\n",
       "    </tr>\n",
       "    <tr>\n",
       "      <th>3718</th>\n",
       "      <td>url(\"https://lh3.googleusercontent.com/ci/AC_F...</td>\n",
       "      <td>https://artsandculture.google.com/asset/hostag...</td>\n",
       "      <td>BLUE</td>\n",
       "    </tr>\n",
       "    <tr>\n",
       "      <th>12819</th>\n",
       "      <td>url(\"https://lh3.googleusercontent.com/ci/AC_F...</td>\n",
       "      <td>https://artsandculture.google.com/asset/a-stor...</td>\n",
       "      <td>BLACK</td>\n",
       "    </tr>\n",
       "    <tr>\n",
       "      <th>2353</th>\n",
       "      <td>url(\"https://lh3.googleusercontent.com/ci/AC_F...</td>\n",
       "      <td>https://artsandculture.google.com/asset/white-...</td>\n",
       "      <td>PURPLE</td>\n",
       "    </tr>\n",
       "    <tr>\n",
       "      <th>1649</th>\n",
       "      <td>url(\"https://lh3.googleusercontent.com/ci/AC_F...</td>\n",
       "      <td>https://artsandculture.google.com/asset/powley...</td>\n",
       "      <td>YELLOW</td>\n",
       "    </tr>\n",
       "    <tr>\n",
       "      <th>15130</th>\n",
       "      <td>url(\"https://lh3.googleusercontent.com/ci/AC_F...</td>\n",
       "      <td>https://artsandculture.google.com/asset/self-p...</td>\n",
       "      <td>BLACK</td>\n",
       "    </tr>\n",
       "    <tr>\n",
       "      <th>16313</th>\n",
       "      <td>url(\"https://lh3.googleusercontent.com/ci/AC_F...</td>\n",
       "      <td>https://artsandculture.google.com/asset/gassed...</td>\n",
       "      <td>BLACK</td>\n",
       "    </tr>\n",
       "    <tr>\n",
       "      <th>10156</th>\n",
       "      <td>url(\"https://lh3.googleusercontent.com/ci/AC_F...</td>\n",
       "      <td>https://artsandculture.google.com/asset/hampst...</td>\n",
       "      <td>BROWN</td>\n",
       "    </tr>\n",
       "    <tr>\n",
       "      <th>15805</th>\n",
       "      <td>url(\"https://lh3.googleusercontent.com/ci/AC_F...</td>\n",
       "      <td>https://artsandculture.google.com/asset/comtes...</td>\n",
       "      <td>BLACK</td>\n",
       "    </tr>\n",
       "    <tr>\n",
       "      <th>10152</th>\n",
       "      <td>url(\"https://lh3.googleusercontent.com/ci/AC_F...</td>\n",
       "      <td>https://artsandculture.google.com/asset/farrag...</td>\n",
       "      <td>BROWN</td>\n",
       "    </tr>\n",
       "    <tr>\n",
       "      <th>74</th>\n",
       "      <td>url(\"https://lh3.googleusercontent.com/ci/AC_F...</td>\n",
       "      <td>https://artsandculture.google.com/asset/oil-la...</td>\n",
       "      <td>WHITE</td>\n",
       "    </tr>\n",
       "    <tr>\n",
       "      <th>7725</th>\n",
       "      <td>url(\"https://lh3.googleusercontent.com/ci/AC_F...</td>\n",
       "      <td>https://artsandculture.google.com/asset/painti...</td>\n",
       "      <td>ORANGE</td>\n",
       "    </tr>\n",
       "  </tbody>\n",
       "</table>\n",
       "</div>"
      ],
      "text/plain": [
       "                                                   image  \\\n",
       "9526   url(\"https://lh3.googleusercontent.com/ci/AC_F...   \n",
       "6055   url(\"https://lh3.googleusercontent.com/ci/AC_F...   \n",
       "6703   url(\"https://lh3.googleusercontent.com/ci/AC_F...   \n",
       "10053  url(\"https://lh3.googleusercontent.com/ci/AC_F...   \n",
       "3718   url(\"https://lh3.googleusercontent.com/ci/AC_F...   \n",
       "12819  url(\"https://lh3.googleusercontent.com/ci/AC_F...   \n",
       "2353   url(\"https://lh3.googleusercontent.com/ci/AC_F...   \n",
       "1649   url(\"https://lh3.googleusercontent.com/ci/AC_F...   \n",
       "15130  url(\"https://lh3.googleusercontent.com/ci/AC_F...   \n",
       "16313  url(\"https://lh3.googleusercontent.com/ci/AC_F...   \n",
       "10156  url(\"https://lh3.googleusercontent.com/ci/AC_F...   \n",
       "15805  url(\"https://lh3.googleusercontent.com/ci/AC_F...   \n",
       "10152  url(\"https://lh3.googleusercontent.com/ci/AC_F...   \n",
       "74     url(\"https://lh3.googleusercontent.com/ci/AC_F...   \n",
       "7725   url(\"https://lh3.googleusercontent.com/ci/AC_F...   \n",
       "\n",
       "                                                    page   color  \n",
       "9526   https://artsandculture.google.com/asset/escrav...   BROWN  \n",
       "6055   https://artsandculture.google.com/asset/landsc...   GREEN  \n",
       "6703   https://artsandculture.google.com/asset/fenest...   GREEN  \n",
       "10053  https://artsandculture.google.com/asset/pierro...   BROWN  \n",
       "3718   https://artsandculture.google.com/asset/hostag...    BLUE  \n",
       "12819  https://artsandculture.google.com/asset/a-stor...   BLACK  \n",
       "2353   https://artsandculture.google.com/asset/white-...  PURPLE  \n",
       "1649   https://artsandculture.google.com/asset/powley...  YELLOW  \n",
       "15130  https://artsandculture.google.com/asset/self-p...   BLACK  \n",
       "16313  https://artsandculture.google.com/asset/gassed...   BLACK  \n",
       "10156  https://artsandculture.google.com/asset/hampst...   BROWN  \n",
       "15805  https://artsandculture.google.com/asset/comtes...   BLACK  \n",
       "10152  https://artsandculture.google.com/asset/farrag...   BROWN  \n",
       "74     https://artsandculture.google.com/asset/oil-la...   WHITE  \n",
       "7725   https://artsandculture.google.com/asset/painti...  ORANGE  "
      ]
     },
     "execution_count": 30,
     "metadata": {},
     "output_type": "execute_result"
    }
   ],
   "source": [
    "df.sample(15)"
   ]
  },
  {
   "attachments": {},
   "cell_type": "markdown",
   "metadata": {},
   "source": [
    "# Export Picture Data"
   ]
  },
  {
   "cell_type": "code",
   "execution_count": 31,
   "metadata": {},
   "outputs": [],
   "source": [
    "df.to_csv(data_raw_folder/'pictures.csv',index=False)"
   ]
  },
  {
   "attachments": {},
   "cell_type": "markdown",
   "metadata": {},
   "source": [
    "# Download images"
   ]
  },
  {
   "cell_type": "code",
   "execution_count": 67,
   "metadata": {},
   "outputs": [
    {
     "data": {
      "text/html": [
       "<div>\n",
       "<style scoped>\n",
       "    .dataframe tbody tr th:only-of-type {\n",
       "        vertical-align: middle;\n",
       "    }\n",
       "\n",
       "    .dataframe tbody tr th {\n",
       "        vertical-align: top;\n",
       "    }\n",
       "\n",
       "    .dataframe thead th {\n",
       "        text-align: right;\n",
       "    }\n",
       "</style>\n",
       "<table border=\"1\" class=\"dataframe\">\n",
       "  <thead>\n",
       "    <tr style=\"text-align: right;\">\n",
       "      <th></th>\n",
       "      <th>image</th>\n",
       "      <th>page</th>\n",
       "      <th>color</th>\n",
       "    </tr>\n",
       "  </thead>\n",
       "  <tbody>\n",
       "    <tr>\n",
       "      <th>0</th>\n",
       "      <td>url(\"https://lh3.googleusercontent.com/ci/AC_F...</td>\n",
       "      <td>https://artsandculture.google.com/asset/the-ma...</td>\n",
       "      <td>WHITE</td>\n",
       "    </tr>\n",
       "    <tr>\n",
       "      <th>1</th>\n",
       "      <td>url(\"https://lh3.googleusercontent.com/ci/AC_F...</td>\n",
       "      <td>https://artsandculture.google.com/asset/sympho...</td>\n",
       "      <td>WHITE</td>\n",
       "    </tr>\n",
       "    <tr>\n",
       "      <th>2</th>\n",
       "      <td>url(\"https://lh3.googleusercontent.com/ci/AC_F...</td>\n",
       "      <td>https://artsandculture.google.com/asset/the-cr...</td>\n",
       "      <td>WHITE</td>\n",
       "    </tr>\n",
       "    <tr>\n",
       "      <th>3</th>\n",
       "      <td>url(\"https://lh3.googleusercontent.com/ci/AC_F...</td>\n",
       "      <td>https://artsandculture.google.com/asset/the-cr...</td>\n",
       "      <td>WHITE</td>\n",
       "    </tr>\n",
       "    <tr>\n",
       "      <th>4</th>\n",
       "      <td>url(\"https://lh3.googleusercontent.com/ci/AC_F...</td>\n",
       "      <td>https://artsandculture.google.com/asset/portra...</td>\n",
       "      <td>WHITE</td>\n",
       "    </tr>\n",
       "  </tbody>\n",
       "</table>\n",
       "</div>"
      ],
      "text/plain": [
       "                                               image  \\\n",
       "0  url(\"https://lh3.googleusercontent.com/ci/AC_F...   \n",
       "1  url(\"https://lh3.googleusercontent.com/ci/AC_F...   \n",
       "2  url(\"https://lh3.googleusercontent.com/ci/AC_F...   \n",
       "3  url(\"https://lh3.googleusercontent.com/ci/AC_F...   \n",
       "4  url(\"https://lh3.googleusercontent.com/ci/AC_F...   \n",
       "\n",
       "                                                page  color  \n",
       "0  https://artsandculture.google.com/asset/the-ma...  WHITE  \n",
       "1  https://artsandculture.google.com/asset/sympho...  WHITE  \n",
       "2  https://artsandculture.google.com/asset/the-cr...  WHITE  \n",
       "3  https://artsandculture.google.com/asset/the-cr...  WHITE  \n",
       "4  https://artsandculture.google.com/asset/portra...  WHITE  "
      ]
     },
     "execution_count": 67,
     "metadata": {},
     "output_type": "execute_result"
    }
   ],
   "source": [
    "df_pictures = pd.read_csv(data_raw_folder/'pictures.csv')\n",
    "df_pictures.head()\n"
   ]
  },
  {
   "cell_type": "code",
   "execution_count": 68,
   "metadata": {},
   "outputs": [
    {
     "data": {
      "text/plain": [
       "67"
      ]
     },
     "execution_count": 68,
     "metadata": {},
     "output_type": "execute_result"
    }
   ],
   "source": [
    "(df_pictures.image == 'none' ).sum()"
   ]
  },
  {
   "attachments": {},
   "cell_type": "markdown",
   "metadata": {},
   "source": [
    "67 Images have missing image url. Maybe scraping not wait for load this content"
   ]
  },
  {
   "cell_type": "code",
   "execution_count": 69,
   "metadata": {},
   "outputs": [],
   "source": [
    "df_pictures = df_pictures[(df_pictures.image != 'none' )]"
   ]
  },
  {
   "cell_type": "code",
   "execution_count": 70,
   "metadata": {},
   "outputs": [
    {
     "data": {
      "text/plain": [
       "16311"
      ]
     },
     "execution_count": 70,
     "metadata": {},
     "output_type": "execute_result"
    }
   ],
   "source": [
    "len(df_pictures)"
   ]
  },
  {
   "cell_type": "code",
   "execution_count": 71,
   "metadata": {},
   "outputs": [],
   "source": [
    "df_pictures['image'] = df_pictures['image'].str.split(\"\\\"\",expand=True)[1]"
   ]
  },
  {
   "cell_type": "code",
   "execution_count": 72,
   "metadata": {},
   "outputs": [],
   "source": [
    "df_pictures['index']= df_pictures.index"
   ]
  },
  {
   "attachments": {},
   "cell_type": "markdown",
   "metadata": {},
   "source": [
    "Create index for identify each image"
   ]
  },
  {
   "cell_type": "code",
   "execution_count": 20,
   "metadata": {},
   "outputs": [],
   "source": [
    "image_paths =df_pictures['image'].values.tolist()\n",
    "index_list =df_pictures['index'].values.tolist()"
   ]
  },
  {
   "cell_type": "code",
   "execution_count": 34,
   "metadata": {},
   "outputs": [],
   "source": [
    "def downloadImg(url:str,index:int) -> bool:\n",
    "    \"\"\"\n",
    "    Download a image based url and save using their index.\n",
    "    \"\"\"\n",
    "    filename = f'{index}.jpg'\n",
    "    fullpath = data_processed_folder/'img'/filename\n",
    "    try:\n",
    "        getImage(url,fullpath)\n",
    "        return True\n",
    "    except:\n",
    "        print(f'Failed to download {url}')\n",
    "        return False\n",
    "\n",
    "def parallelDownloadImg(image_paths,index_list) -> None:\n",
    "    \"\"\"\n",
    "    Download images in parallel.\n",
    "    \"\"\"\n",
    "    with ProcessPoolExecutor() as executor:\n",
    "        executor.map(downloadImg, image_paths,index_list)\n"
   ]
  },
  {
   "cell_type": "code",
   "execution_count": null,
   "metadata": {},
   "outputs": [],
   "source": [
    "parallelDownloadImg(image_paths,index_list)"
   ]
  },
  {
   "attachments": {},
   "cell_type": "markdown",
   "metadata": {},
   "source": [
    "# Export pictures data + images location"
   ]
  },
  {
   "cell_type": "code",
   "execution_count": 73,
   "metadata": {},
   "outputs": [],
   "source": [
    "df_pictures['filename'] = df_pictures['index'].astype('str')+'.jpg'"
   ]
  },
  {
   "cell_type": "code",
   "execution_count": 79,
   "metadata": {},
   "outputs": [],
   "source": [
    "df_pictures.to_csv(data_interim_folder/'pictures.csv',index=False)"
   ]
  },
  {
   "attachments": {},
   "cell_type": "markdown",
   "metadata": {},
   "source": [
    "# Data Integrity"
   ]
  },
  {
   "cell_type": "code",
   "execution_count": 51,
   "metadata": {},
   "outputs": [
    {
     "name": "stdout",
     "output_type": "stream",
     "text": [
      "16311\n",
      "16311\n"
     ]
    }
   ],
   "source": [
    "print(df_pictures['image'].nunique())\n",
    "print(df_pictures['page'].nunique())"
   ]
  },
  {
   "attachments": {},
   "cell_type": "markdown",
   "metadata": {},
   "source": [
    "Image and page columns, have all unique name. So the data is correct."
   ]
  },
  {
   "cell_type": "code",
   "execution_count": 56,
   "metadata": {},
   "outputs": [
    {
     "name": "stdout",
     "output_type": "stream",
     "text": [
      "16311\n"
     ]
    }
   ],
   "source": [
    "!ls ../data/processed/img | wc -l"
   ]
  },
  {
   "attachments": {},
   "cell_type": "markdown",
   "metadata": {},
   "source": [
    "The number of images in file system is the same that in dataframe"
   ]
  }
 ],
 "metadata": {
  "kernelspec": {
   "display_name": "google-arts-and-culture-1eGOptBn",
   "language": "python",
   "name": "python3"
  },
  "language_info": {
   "codemirror_mode": {
    "name": "ipython",
    "version": 3
   },
   "file_extension": ".py",
   "mimetype": "text/x-python",
   "name": "python",
   "nbconvert_exporter": "python",
   "pygments_lexer": "ipython3",
   "version": "3.9.16 (main, Dec  7 2022, 01:11:51) \n[GCC 9.4.0]"
  },
  "orig_nbformat": 4,
  "vscode": {
   "interpreter": {
    "hash": "0068aaa7aad55825c3e831ae0221cc11bd4e18d89be3105d27aac59446ba4f88"
   }
  }
 },
 "nbformat": 4,
 "nbformat_minor": 2
}
